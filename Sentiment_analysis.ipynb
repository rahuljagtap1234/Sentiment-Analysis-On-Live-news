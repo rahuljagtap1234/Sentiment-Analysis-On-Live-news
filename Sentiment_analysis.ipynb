{
 "cells": [
  {
   "cell_type": "code",
   "execution_count": 1,
   "id": "64ae5228",
   "metadata": {},
   "outputs": [],
   "source": [
    "import warnings\n",
    "warnings.filterwarnings('ignore')\n",
    "import time\n",
    "import requests\n",
    "import pandas as pd\n",
    "pd.set_option('display.max_rows', 5000)\n",
    "pd.set_option('display.max_columns', 5000)\n",
    "pd.set_option('display.width', 1000)\n",
    "import numpy as np\n",
    "import random\n",
    "from sklearn.ensemble import VotingClassifier \n",
    "from sklearn.model_selection import train_test_split, cross_val_score, GridSearchCV,cross_val_predict\n",
    "from sklearn.svm import SVC,LinearSVC\n",
    "\n",
    "from sklearn.feature_extraction.text import CountVectorizer,TfidfVectorizer\n",
    "import re\n",
    "from sklearn.metrics import classification_report, accuracy_score,precision_score,recall_score,roc_auc_score\n",
    "import optuna\n",
    "from sklearn.pipeline import make_pipeline\n",
    "from sklearn.naive_bayes import MultinomialNB\n",
    "\n",
    "from IPython.display import display, Markdown,HTML"
   ]
  },
  {
   "cell_type": "code",
   "execution_count": 2,
   "id": "5de8550e",
   "metadata": {},
   "outputs": [],
   "source": [
    "df=pd.read_csv('GfG (25).csv',encoding='ANSI')"
   ]
  },
  {
   "cell_type": "code",
   "execution_count": 3,
   "id": "9607422e",
   "metadata": {},
   "outputs": [
    {
     "data": {
      "text/plain": [
       "(4179, 3)"
      ]
     },
     "execution_count": 3,
     "metadata": {},
     "output_type": "execute_result"
    }
   ],
   "source": [
    "df.shape"
   ]
  },
  {
   "cell_type": "code",
   "execution_count": 4,
   "id": "94023306",
   "metadata": {},
   "outputs": [
    {
     "data": {
      "text/html": [
       "<div>\n",
       "<style scoped>\n",
       "    .dataframe tbody tr th:only-of-type {\n",
       "        vertical-align: middle;\n",
       "    }\n",
       "\n",
       "    .dataframe tbody tr th {\n",
       "        vertical-align: top;\n",
       "    }\n",
       "\n",
       "    .dataframe thead th {\n",
       "        text-align: right;\n",
       "    }\n",
       "</style>\n",
       "<table border=\"1\" class=\"dataframe\">\n",
       "  <thead>\n",
       "    <tr style=\"text-align: right;\">\n",
       "      <th></th>\n",
       "      <th>Sr No</th>\n",
       "      <th>Headings</th>\n",
       "      <th>Sentiment</th>\n",
       "    </tr>\n",
       "  </thead>\n",
       "  <tbody>\n",
       "    <tr>\n",
       "      <th>0</th>\n",
       "      <td>1</td>\n",
       "      <td>Union Health Ministry to organize a week-long ...</td>\n",
       "      <td>0</td>\n",
       "    </tr>\n",
       "    <tr>\n",
       "      <th>1</th>\n",
       "      <td>2</td>\n",
       "      <td>PM Modi to unveil 108-feet statue of Lord Hanu...</td>\n",
       "      <td>0</td>\n",
       "    </tr>\n",
       "    <tr>\n",
       "      <th>2</th>\n",
       "      <td>3</td>\n",
       "      <td>Stage set for the final round of Hero 75th Nat...</td>\n",
       "      <td>-1</td>\n",
       "    </tr>\n",
       "    <tr>\n",
       "      <th>3</th>\n",
       "      <td>4</td>\n",
       "      <td>\"I would like to be a world record holder some...</td>\n",
       "      <td>0</td>\n",
       "    </tr>\n",
       "    <tr>\n",
       "      <th>4</th>\n",
       "      <td>5</td>\n",
       "      <td>Government exempts all customs duty on Cotton ...</td>\n",
       "      <td>0</td>\n",
       "    </tr>\n",
       "  </tbody>\n",
       "</table>\n",
       "</div>"
      ],
      "text/plain": [
       "   Sr No                                           Headings  Sentiment\n",
       "0      1  Union Health Ministry to organize a week-long ...          0\n",
       "1      2  PM Modi to unveil 108-feet statue of Lord Hanu...          0\n",
       "2      3  Stage set for the final round of Hero 75th Nat...         -1\n",
       "3      4  \"I would like to be a world record holder some...          0\n",
       "4      5  Government exempts all customs duty on Cotton ...          0"
      ]
     },
     "execution_count": 4,
     "metadata": {},
     "output_type": "execute_result"
    }
   ],
   "source": [
    "df.head()"
   ]
  },
  {
   "cell_type": "code",
   "execution_count": 5,
   "id": "38092728",
   "metadata": {},
   "outputs": [
    {
     "data": {
      "text/plain": [
       " 0    2374\n",
       " 1    1322\n",
       "-1     483\n",
       "Name: Sentiment, dtype: int64"
      ]
     },
     "execution_count": 5,
     "metadata": {},
     "output_type": "execute_result"
    }
   ],
   "source": [
    "df.Sentiment.value_counts()"
   ]
  },
  {
   "cell_type": "code",
   "execution_count": 6,
   "id": "a8df2982",
   "metadata": {},
   "outputs": [],
   "source": [
    "def cleanText(text:str)-> str:\n",
    "    \"\"\"\n",
    "    This function takes a tweet and clean it by removing\n",
    "    1. Hastags and Mentions\n",
    "    2. URLS\n",
    "    \"\"\"\n",
    "    text = text.lower()\n",
    "    hash_pattern  = re.findall(\"[#|@]\\w+\",text)\n",
    "    for p in hash_pattern:\n",
    "        text = text.replace(p,\"\")\n",
    "    urls = re.findall(\"http[a-z:/0-9.]+\",text)\n",
    "    for u in urls:\n",
    "        text = text.replace(u,\"\")\n",
    "    text =re.findall(\"\\w+\",text)\n",
    "    text = \" \".join(text)\n",
    "    return text"
   ]
  },
  {
   "cell_type": "code",
   "execution_count": 7,
   "id": "af989d53",
   "metadata": {},
   "outputs": [],
   "source": [
    "df['Headings'] = df['Headings'].apply(cleanText)"
   ]
  },
  {
   "cell_type": "code",
   "execution_count": 8,
   "id": "4877d5b3",
   "metadata": {},
   "outputs": [
    {
     "data": {
      "text/html": [
       "<div>\n",
       "<style scoped>\n",
       "    .dataframe tbody tr th:only-of-type {\n",
       "        vertical-align: middle;\n",
       "    }\n",
       "\n",
       "    .dataframe tbody tr th {\n",
       "        vertical-align: top;\n",
       "    }\n",
       "\n",
       "    .dataframe thead th {\n",
       "        text-align: right;\n",
       "    }\n",
       "</style>\n",
       "<table border=\"1\" class=\"dataframe\">\n",
       "  <thead>\n",
       "    <tr style=\"text-align: right;\">\n",
       "      <th></th>\n",
       "      <th>Sr No</th>\n",
       "      <th>Headings</th>\n",
       "      <th>Sentiment</th>\n",
       "    </tr>\n",
       "  </thead>\n",
       "  <tbody>\n",
       "    <tr>\n",
       "      <th>0</th>\n",
       "      <td>1</td>\n",
       "      <td>union health ministry to organize a week long ...</td>\n",
       "      <td>0</td>\n",
       "    </tr>\n",
       "    <tr>\n",
       "      <th>1</th>\n",
       "      <td>2</td>\n",
       "      <td>pm modi to unveil 108 feet statue of lord hanu...</td>\n",
       "      <td>0</td>\n",
       "    </tr>\n",
       "    <tr>\n",
       "      <th>2</th>\n",
       "      <td>3</td>\n",
       "      <td>stage set for the final round of hero 75th nat...</td>\n",
       "      <td>-1</td>\n",
       "    </tr>\n",
       "    <tr>\n",
       "      <th>3</th>\n",
       "      <td>4</td>\n",
       "      <td>i would like to be a world record holder somed...</td>\n",
       "      <td>0</td>\n",
       "    </tr>\n",
       "    <tr>\n",
       "      <th>4</th>\n",
       "      <td>5</td>\n",
       "      <td>government exempts all customs duty on cotton ...</td>\n",
       "      <td>0</td>\n",
       "    </tr>\n",
       "  </tbody>\n",
       "</table>\n",
       "</div>"
      ],
      "text/plain": [
       "   Sr No                                           Headings  Sentiment\n",
       "0      1  union health ministry to organize a week long ...          0\n",
       "1      2  pm modi to unveil 108 feet statue of lord hanu...          0\n",
       "2      3  stage set for the final round of hero 75th nat...         -1\n",
       "3      4  i would like to be a world record holder somed...          0\n",
       "4      5  government exempts all customs duty on cotton ...          0"
      ]
     },
     "execution_count": 8,
     "metadata": {},
     "output_type": "execute_result"
    }
   ],
   "source": [
    "df.head()"
   ]
  },
  {
   "cell_type": "code",
   "execution_count": 9,
   "id": "3eb75e49",
   "metadata": {},
   "outputs": [],
   "source": [
    "X = df.Headings\n",
    "y = df.Sentiment"
   ]
  },
  {
   "cell_type": "code",
   "execution_count": 10,
   "id": "f5e39e96",
   "metadata": {},
   "outputs": [],
   "source": [
    "vectorizer = TfidfVectorizer(min_df=0.001)\n",
    "vectorizer.fit(X)\n",
    "X_vec = vectorizer.transform(X)"
   ]
  },
  {
   "cell_type": "code",
   "execution_count": 11,
   "id": "769de95f",
   "metadata": {},
   "outputs": [
    {
     "data": {
      "text/plain": [
       "<4179x1652 sparse matrix of type '<class 'numpy.float64'>'\n",
       "\twith 39835 stored elements in Compressed Sparse Row format>"
      ]
     },
     "execution_count": 11,
     "metadata": {},
     "output_type": "execute_result"
    }
   ],
   "source": [
    "X_vec"
   ]
  },
  {
   "cell_type": "code",
   "execution_count": 12,
   "id": "bd68dbac",
   "metadata": {},
   "outputs": [],
   "source": [
    "x_train,x_test,y_train,y_test = train_test_split(X_vec,y,test_size=0.2,random_state=50)"
   ]
  },
  {
   "cell_type": "markdown",
   "id": "b209111a",
   "metadata": {},
   "source": [
    "***Linear SVC***"
   ]
  },
  {
   "cell_type": "code",
   "execution_count": 13,
   "id": "6e084652",
   "metadata": {},
   "outputs": [
    {
     "data": {
      "text/plain": [
       "LinearSVC()"
      ]
     },
     "execution_count": 13,
     "metadata": {},
     "output_type": "execute_result"
    }
   ],
   "source": [
    "lsvc = LinearSVC()\n",
    "lsvc.fit(x_train,y_train)"
   ]
  },
  {
   "cell_type": "code",
   "execution_count": 14,
   "id": "bdc77dce",
   "metadata": {},
   "outputs": [
    {
     "name": "stdout",
     "output_type": "stream",
     "text": [
      "Train : \n",
      "              precision    recall  f1-score   support\n",
      "\n",
      "          -1       0.89      0.99      0.94       354\n",
      "           0       1.00      0.95      0.97      1995\n",
      "           1       0.94      0.99      0.96       994\n",
      "\n",
      "    accuracy                           0.97      3343\n",
      "   macro avg       0.94      0.98      0.96      3343\n",
      "weighted avg       0.97      0.97      0.97      3343\n",
      "\n",
      "Test : \n",
      "              precision    recall  f1-score   support\n",
      "\n",
      "          -1       0.63      0.84      0.72        68\n",
      "           0       0.97      0.85      0.91       530\n",
      "           1       0.79      0.92      0.85       238\n",
      "\n",
      "    accuracy                           0.87       836\n",
      "   macro avg       0.80      0.87      0.83       836\n",
      "weighted avg       0.89      0.87      0.88       836\n",
      "\n"
     ]
    }
   ],
   "source": [
    "train_pred = lsvc.predict(x_train)\n",
    "test_pred = lsvc.predict(x_test)\n",
    "print(\"Train : \")\n",
    "print(classification_report(train_pred,y_train))\n",
    "print(\"Test : \")\n",
    "print(classification_report(test_pred,y_test))"
   ]
  },
  {
   "cell_type": "code",
   "execution_count": 15,
   "id": "6778ef11",
   "metadata": {},
   "outputs": [
    {
     "name": "stderr",
     "output_type": "stream",
     "text": [
      "\u001b[32m[I 2022-04-27 11:55:36,495]\u001b[0m A new study created in memory with name: text_classflinear\u001b[0m\n",
      "\u001b[32m[I 2022-04-27 11:55:46,072]\u001b[0m Trial 0 finished with value: 0.8172217837872557 and parameters: {'C': 1.1389405872348601}. Best is trial 0 with value: 0.8172217837872557.\u001b[0m\n",
      "\u001b[32m[I 2022-04-27 11:55:46,865]\u001b[0m Trial 2 finished with value: 0.7862719292506919 and parameters: {'C': 10.663980383282535}. Best is trial 0 with value: 0.8172217837872557.\u001b[0m\n",
      "\u001b[32m[I 2022-04-27 11:55:47,521]\u001b[0m Trial 1 finished with value: 0.7658880702222347 and parameters: {'C': 30.38003375071391}. Best is trial 0 with value: 0.8172217837872557.\u001b[0m\n",
      "\u001b[32m[I 2022-04-27 11:55:47,765]\u001b[0m Trial 3 finished with value: 0.7583791104303673 and parameters: {'C': 61.35190353027833}. Best is trial 0 with value: 0.8172217837872557.\u001b[0m\n",
      "\u001b[32m[I 2022-04-27 11:55:47,877]\u001b[0m Trial 4 finished with value: 0.7962072149992488 and parameters: {'C': 5.738257337324482}. Best is trial 0 with value: 0.8172217837872557.\u001b[0m\n",
      "\u001b[32m[I 2022-04-27 11:55:48,975]\u001b[0m Trial 5 finished with value: 0.7630109904019914 and parameters: {'C': 54.16889024218189}. Best is trial 0 with value: 0.8172217837872557.\u001b[0m\n",
      "\u001b[32m[I 2022-04-27 11:55:49,716]\u001b[0m Trial 6 finished with value: 0.7591754179254746 and parameters: {'C': 73.52117659204508}. Best is trial 0 with value: 0.8172217837872557.\u001b[0m\n",
      "\u001b[32m[I 2022-04-27 11:55:50,502]\u001b[0m Trial 7 finished with value: 0.7563028024040849 and parameters: {'C': 80.82692190925975}. Best is trial 0 with value: 0.8172217837872557.\u001b[0m\n",
      "\u001b[32m[I 2022-04-27 11:55:51,279]\u001b[0m Trial 8 finished with value: 0.7578146244133898 and parameters: {'C': 74.80396569231273}. Best is trial 0 with value: 0.8172217837872557.\u001b[0m\n",
      "\u001b[32m[I 2022-04-27 11:55:52,049]\u001b[0m Trial 9 finished with value: 0.7648968423846108 and parameters: {'C': 36.62235442035645}. Best is trial 0 with value: 0.8172217837872557.\u001b[0m\n",
      "\u001b[32m[I 2022-04-27 11:55:52,846]\u001b[0m Trial 10 finished with value: 0.7570699796551467 and parameters: {'C': 74.84075733739746}. Best is trial 0 with value: 0.8172217837872557.\u001b[0m\n",
      "\u001b[32m[I 2022-04-27 11:55:53,697]\u001b[0m Trial 11 finished with value: 0.7622799158983994 and parameters: {'C': 52.557757057390376}. Best is trial 0 with value: 0.8172217837872557.\u001b[0m\n",
      "\u001b[32m[I 2022-04-27 11:55:54,432]\u001b[0m Trial 12 finished with value: 0.7586969304920708 and parameters: {'C': 64.51292959085052}. Best is trial 0 with value: 0.8172217837872557.\u001b[0m\n",
      "\u001b[32m[I 2022-04-27 11:55:54,837]\u001b[0m Trial 14 finished with value: 0.8164917386895881 and parameters: {'C': 1.2865050805314093}. Best is trial 0 with value: 0.8172217837872557.\u001b[0m\n",
      "\u001b[32m[I 2022-04-27 11:55:55,055]\u001b[0m Trial 13 finished with value: 0.7561496704196987 and parameters: {'C': 99.5309426260055}. Best is trial 0 with value: 0.8172217837872557.\u001b[0m\n",
      "\u001b[32m[I 2022-04-27 11:55:55,080]\u001b[0m Trial 15 finished with value: 0.811752431209342 and parameters: {'C': 2.9562085378754226}. Best is trial 0 with value: 0.8172217837872557.\u001b[0m\n",
      "\u001b[32m[I 2022-04-27 11:55:55,208]\u001b[0m Trial 16 finished with value: 0.8132482360341399 and parameters: {'C': 2.6476234411516706}. Best is trial 0 with value: 0.8172217837872557.\u001b[0m\n",
      "\u001b[32m[I 2022-04-27 11:55:56,345]\u001b[0m Trial 17 finished with value: 0.7571906792670455 and parameters: {'C': 99.46226596663558}. Best is trial 0 with value: 0.8172217837872557.\u001b[0m\n",
      "\u001b[32m[I 2022-04-27 11:55:56,885]\u001b[0m Trial 18 finished with value: 0.7724721158285222 and parameters: {'C': 19.905664818542725}. Best is trial 0 with value: 0.8172217837872557.\u001b[0m\n",
      "\u001b[32m[I 2022-04-27 11:55:57,303]\u001b[0m Trial 19 finished with value: 0.7733956717456076 and parameters: {'C': 18.405719118134623}. Best is trial 0 with value: 0.8172217837872557.\u001b[0m\n",
      "\u001b[32m[I 2022-04-27 11:55:58,034]\u001b[0m Trial 20 finished with value: 0.7723841383101547 and parameters: {'C': 21.100458263824578}. Best is trial 0 with value: 0.8172217837872557.\u001b[0m\n",
      "\u001b[32m[I 2022-04-27 11:55:58,851]\u001b[0m Trial 21 finished with value: 0.769574735225319 and parameters: {'C': 23.778032209566874}. Best is trial 0 with value: 0.8172217837872557.\u001b[0m\n",
      "\u001b[32m[I 2022-04-27 11:55:59,432]\u001b[0m Trial 22 finished with value: 0.7724721158285222 and parameters: {'C': 20.26581982549898}. Best is trial 0 with value: 0.8172217837872557.\u001b[0m\n",
      "\u001b[32m[I 2022-04-27 11:56:00,072]\u001b[0m Trial 24 finished with value: 0.8122426486173687 and parameters: {'C': 3.0524676706658624}. Best is trial 0 with value: 0.8172217837872557.\u001b[0m\n",
      "\u001b[32m[I 2022-04-27 11:56:00,267]\u001b[0m Trial 25 finished with value: 0.8013294751194963 and parameters: {'C': 0.4375490468145855}. Best is trial 0 with value: 0.8172217837872557.\u001b[0m\n",
      "\u001b[32m[I 2022-04-27 11:56:00,329]\u001b[0m Trial 23 finished with value: 0.7651197346518221 and parameters: {'C': 35.85636921406511}. Best is trial 0 with value: 0.8172217837872557.\u001b[0m\n",
      "\u001b[32m[I 2022-04-27 11:56:00,425]\u001b[0m Trial 26 finished with value: 0.8161767130923787 and parameters: {'C': 1.8346766819025853}. Best is trial 0 with value: 0.8172217837872557.\u001b[0m\n",
      "\u001b[32m[I 2022-04-27 11:56:01,509]\u001b[0m Trial 27 finished with value: 0.7655778971055023 and parameters: {'C': 37.801307481784406}. Best is trial 0 with value: 0.8172217837872557.\u001b[0m\n",
      "\u001b[32m[I 2022-04-27 11:56:01,671]\u001b[0m Trial 28 finished with value: 0.7834512313350681 and parameters: {'C': 11.671363168621417}. Best is trial 0 with value: 0.8172217837872557.\u001b[0m\n",
      "\u001b[32m[I 2022-04-27 11:56:02,071]\u001b[0m Trial 29 finished with value: 0.7860900465275262 and parameters: {'C': 10.796808841332684}. Best is trial 0 with value: 0.8172217837872557.\u001b[0m\n",
      "\u001b[32m[I 2022-04-27 11:56:02,424]\u001b[0m Trial 30 finished with value: 0.7860480998784123 and parameters: {'C': 10.332671404370082}. Best is trial 0 with value: 0.8172217837872557.\u001b[0m\n",
      "\u001b[32m[I 2022-04-27 11:56:02,806]\u001b[0m Trial 31 finished with value: 0.7813701287187935 and parameters: {'C': 13.747831154483698}. Best is trial 0 with value: 0.8172217837872557.\u001b[0m\n",
      "\u001b[32m[I 2022-04-27 11:56:03,221]\u001b[0m Trial 32 finished with value: 0.7834494591251423 and parameters: {'C': 11.854182892520392}. Best is trial 0 with value: 0.8172217837872557.\u001b[0m\n",
      "\u001b[32m[I 2022-04-27 11:56:03,858]\u001b[0m Trial 34 finished with value: 0.8119859135432815 and parameters: {'C': 0.7966322017489269}. Best is trial 0 with value: 0.8172217837872557.\u001b[0m\n",
      "\u001b[32m[I 2022-04-27 11:56:04,161]\u001b[0m Trial 33 finished with value: 0.7671826574948278 and parameters: {'C': 26.872386787403187}. Best is trial 0 with value: 0.8172217837872557.\u001b[0m\n",
      "\u001b[32m[I 2022-04-27 11:56:04,743]\u001b[0m Trial 36 finished with value: 0.8176447231035372 and parameters: {'C': 1.0460413230593264}. Best is trial 36 with value: 0.8176447231035372.\u001b[0m\n",
      "\u001b[32m[I 2022-04-27 11:56:04,982]\u001b[0m Trial 35 finished with value: 0.7675799857969322 and parameters: {'C': 26.401581844950943}. Best is trial 36 with value: 0.8176447231035372.\u001b[0m\n",
      "\u001b[32m[I 2022-04-27 11:56:05,856]\u001b[0m Trial 37 finished with value: 0.7661923690663228 and parameters: {'C': 28.68649599961093}. Best is trial 36 with value: 0.8176447231035372.\u001b[0m\n",
      "\u001b[32m[I 2022-04-27 11:56:05,972]\u001b[0m Trial 38 finished with value: 0.7940207853465089 and parameters: {'C': 7.195552320225522}. Best is trial 36 with value: 0.8176447231035372.\u001b[0m\n",
      "\u001b[32m[I 2022-04-27 11:56:06,215]\u001b[0m Trial 39 finished with value: 0.7910948163927773 and parameters: {'C': 7.793482106249295}. Best is trial 36 with value: 0.8176447231035372.\u001b[0m\n",
      "\u001b[32m[I 2022-04-27 11:56:06,433]\u001b[0m Trial 40 finished with value: 0.7958669366578393 and parameters: {'C': 6.257511896239729}. Best is trial 36 with value: 0.8176447231035372.\u001b[0m\n",
      "\u001b[32m[I 2022-04-27 11:56:06,777]\u001b[0m Trial 41 finished with value: 0.7955364755614851 and parameters: {'C': 6.78391567769282}. Best is trial 36 with value: 0.8176447231035372.\u001b[0m\n",
      "\u001b[32m[I 2022-04-27 11:56:07,655]\u001b[0m Trial 42 finished with value: 0.7635873653879913 and parameters: {'C': 42.38866396607935}. Best is trial 36 with value: 0.8176447231035372.\u001b[0m\n",
      "\u001b[32m[I 2022-04-27 11:56:07,971]\u001b[0m Trial 43 finished with value: 0.778042236456742 and parameters: {'C': 15.492033860222797}. Best is trial 36 with value: 0.8176447231035372.\u001b[0m\n",
      "\u001b[32m[I 2022-04-27 11:56:08,371]\u001b[0m Trial 44 finished with value: 0.7780376568416331 and parameters: {'C': 15.595286683715079}. Best is trial 36 with value: 0.8176447231035372.\u001b[0m\n",
      "\u001b[32m[I 2022-04-27 11:56:08,802]\u001b[0m Trial 45 finished with value: 0.778042236456742 and parameters: {'C': 15.364748235403141}. Best is trial 36 with value: 0.8176447231035372.\u001b[0m\n",
      "\u001b[32m[I 2022-04-27 11:56:09,069]\u001b[0m Trial 47 finished with value: 0.7683840416216847 and parameters: {'C': 0.25799051298059783}. Best is trial 36 with value: 0.8176447231035372.\u001b[0m\n",
      "\u001b[32m[I 2022-04-27 11:56:09,142]\u001b[0m Trial 46 finished with value: 0.7763396559927777 and parameters: {'C': 16.27719971048547}. Best is trial 36 with value: 0.8176447231035372.\u001b[0m\n",
      "\u001b[32m[I 2022-04-27 11:56:09,198]\u001b[0m Trial 48 finished with value: 0.8163811537276949 and parameters: {'C': 0.9623582500626537}. Best is trial 36 with value: 0.8176447231035372.\u001b[0m\n",
      "\u001b[32m[I 2022-04-27 11:56:09,416]\u001b[0m Trial 49 finished with value: 0.8050011371281434 and parameters: {'C': 4.402517940456369}. Best is trial 36 with value: 0.8176447231035372.\u001b[0m\n",
      "\u001b[32m[I 2022-04-27 11:56:09,603]\u001b[0m Trial 50 finished with value: 0.8028605040492321 and parameters: {'C': 4.726340233521639}. Best is trial 36 with value: 0.8176447231035372.\u001b[0m\n",
      "\u001b[32m[I 2022-04-27 11:56:09,753]\u001b[0m Trial 51 finished with value: 0.8019542800198447 and parameters: {'C': 4.830797029723513}. Best is trial 36 with value: 0.8176447231035372.\u001b[0m\n",
      "\u001b[32m[I 2022-04-27 11:56:10,609]\u001b[0m Trial 52 finished with value: 0.7590852129914613 and parameters: {'C': 63.41754820696533}. Best is trial 36 with value: 0.8176447231035372.\u001b[0m\n",
      "\u001b[32m[I 2022-04-27 11:56:11,284]\u001b[0m Trial 53 finished with value: 0.7572608480957639 and parameters: {'C': 65.33271151592517}. Best is trial 36 with value: 0.8176447231035372.\u001b[0m\n",
      "\u001b[32m[I 2022-04-27 11:56:11,342]\u001b[0m Trial 54 finished with value: 0.7905912226473764 and parameters: {'C': 8.208613343103824}. Best is trial 36 with value: 0.8176447231035372.\u001b[0m\n",
      "\u001b[32m[I 2022-04-27 11:56:12,242]\u001b[0m Trial 55 finished with value: 0.7579870065726351 and parameters: {'C': 61.06826603686383}. Best is trial 36 with value: 0.8176447231035372.\u001b[0m\n",
      "\u001b[32m[I 2022-04-27 11:56:12,259]\u001b[0m Trial 56 finished with value: 0.7906354552034011 and parameters: {'C': 8.391987744601856}. Best is trial 36 with value: 0.8176447231035372.\u001b[0m\n",
      "\u001b[32m[I 2022-04-27 11:56:12,928]\u001b[0m Trial 58 finished with value: 0.7929952564882325 and parameters: {'C': 0.364949497020715}. Best is trial 36 with value: 0.8176447231035372.\u001b[0m\n",
      "\u001b[32m[I 2022-04-27 11:56:13,060]\u001b[0m Trial 59 finished with value: 0.7778893672153381 and parameters: {'C': 0.3004092895019561}. Best is trial 36 with value: 0.8176447231035372.\u001b[0m\n",
      "\u001b[32m[I 2022-04-27 11:56:13,141]\u001b[0m Trial 60 finished with value: 0.805653591693557 and parameters: {'C': 0.5578226742969719}. Best is trial 36 with value: 0.8176447231035372.\u001b[0m\n",
      "\u001b[32m[I 2022-04-27 11:56:13,198]\u001b[0m Trial 57 finished with value: 0.755374962091957 and parameters: {'C': 87.13568248618655}. Best is trial 36 with value: 0.8176447231035372.\u001b[0m\n",
      "\u001b[32m[I 2022-04-27 11:56:14,328]\u001b[0m Trial 61 finished with value: 0.7718860346452543 and parameters: {'C': 22.24140646040855}. Best is trial 36 with value: 0.8176447231035372.\u001b[0m\n",
      "\u001b[32m[I 2022-04-27 11:56:14,642]\u001b[0m Trial 62 finished with value: 0.7575232000224893 and parameters: {'C': 88.79202326678669}. Best is trial 36 with value: 0.8176447231035372.\u001b[0m\n",
      "\u001b[32m[I 2022-04-27 11:56:15,215]\u001b[0m Trial 64 finished with value: 0.8101706310278158 and parameters: {'C': 3.814301613559067}. Best is trial 36 with value: 0.8176447231035372.\u001b[0m\n",
      "\u001b[32m[I 2022-04-27 11:56:15,370]\u001b[0m Trial 63 finished with value: 0.7576837402300571 and parameters: {'C': 94.36521677406313}. Best is trial 36 with value: 0.8176447231035372.\u001b[0m\n",
      "\u001b[32m[I 2022-04-27 11:56:15,473]\u001b[0m Trial 65 finished with value: 0.8096724011361124 and parameters: {'C': 3.915298214137287}. Best is trial 36 with value: 0.8176447231035372.\u001b[0m\n",
      "\u001b[32m[I 2022-04-27 11:56:15,544]\u001b[0m Trial 66 finished with value: 0.8099753482686631 and parameters: {'C': 3.6499743449555435}. Best is trial 36 with value: 0.8176447231035372.\u001b[0m\n",
      "\u001b[32m[I 2022-04-27 11:56:15,968]\u001b[0m Trial 68 finished with value: 0.811752431209342 and parameters: {'C': 2.917648533406861}. Best is trial 36 with value: 0.8176447231035372.\u001b[0m\n",
      "\u001b[32m[I 2022-04-27 11:56:15,996]\u001b[0m Trial 67 finished with value: 0.7834494591251423 and parameters: {'C': 11.828034291662465}. Best is trial 36 with value: 0.8176447231035372.\u001b[0m\n",
      "\u001b[32m[I 2022-04-27 11:56:16,342]\u001b[0m Trial 69 finished with value: 0.7862719292506919 and parameters: {'C': 10.623031390411253}. Best is trial 36 with value: 0.8176447231035372.\u001b[0m\n",
      "\u001b[32m[I 2022-04-27 11:56:16,691]\u001b[0m Trial 70 finished with value: 0.7860759381029521 and parameters: {'C': 10.960724368768684}. Best is trial 36 with value: 0.8176447231035372.\u001b[0m\n",
      "\u001b[32m[I 2022-04-27 11:56:16,983]\u001b[0m Trial 71 finished with value: 0.7834512313350681 and parameters: {'C': 11.59721557692186}. Best is trial 36 with value: 0.8176447231035372.\u001b[0m\n",
      "\u001b[32m[I 2022-04-27 11:56:17,564]\u001b[0m Trial 72 finished with value: 0.7736709594702051 and parameters: {'C': 18.18965949286544}. Best is trial 36 with value: 0.8176447231035372.\u001b[0m\n",
      "\u001b[32m[I 2022-04-27 11:56:17,767]\u001b[0m Trial 73 finished with value: 0.7893233606350505 and parameters: {'C': 9.206568359421222}. Best is trial 36 with value: 0.8176447231035372.\u001b[0m\n",
      "\u001b[32m[I 2022-04-27 11:56:17,941]\u001b[0m Trial 74 finished with value: 0.7910948163927773 and parameters: {'C': 7.888582961195112}. Best is trial 36 with value: 0.8176447231035372.\u001b[0m\n",
      "\u001b[32m[I 2022-04-27 11:56:18,180]\u001b[0m Trial 75 finished with value: 0.7944146419833392 and parameters: {'C': 7.049035331698028}. Best is trial 36 with value: 0.8176447231035372.\u001b[0m\n",
      "\u001b[32m[I 2022-04-27 11:56:18,435]\u001b[0m Trial 76 finished with value: 0.7905912226473764 and parameters: {'C': 8.261425993046638}. Best is trial 36 with value: 0.8176447231035372.\u001b[0m\n",
      "\u001b[32m[I 2022-04-27 11:56:18,526]\u001b[0m Trial 77 finished with value: 0.8154151603905675 and parameters: {'C': 2.1376615555272664}. Best is trial 36 with value: 0.8176447231035372.\u001b[0m\n",
      "\u001b[32m[I 2022-04-27 11:56:18,763]\u001b[0m Trial 78 finished with value: 0.7955549599108639 and parameters: {'C': 5.879234054407098}. Best is trial 36 with value: 0.8176447231035372.\u001b[0m\n",
      "\u001b[32m[I 2022-04-27 11:56:18,818]\u001b[0m Trial 79 finished with value: 0.8152987320143342 and parameters: {'C': 2.270985099332244}. Best is trial 36 with value: 0.8176447231035372.\u001b[0m\n",
      "\u001b[32m[I 2022-04-27 11:56:18,960]\u001b[0m Trial 80 finished with value: 0.8147053740733909 and parameters: {'C': 2.3800295907092024}. Best is trial 36 with value: 0.8176447231035372.\u001b[0m\n",
      "\u001b[32m[I 2022-04-27 11:56:19,088]\u001b[0m Trial 81 finished with value: 0.8132482360341399 and parameters: {'C': 2.6382918794855277}. Best is trial 36 with value: 0.8176447231035372.\u001b[0m\n",
      "\u001b[32m[I 2022-04-27 11:56:19,221]\u001b[0m Trial 82 finished with value: 0.8162244293406348 and parameters: {'C': 2.0004304797725974}. Best is trial 36 with value: 0.8176447231035372.\u001b[0m\n",
      "\u001b[32m[I 2022-04-27 11:56:19,310]\u001b[0m Trial 83 finished with value: 0.8147497649258648 and parameters: {'C': 2.4133588085145483}. Best is trial 36 with value: 0.8176447231035372.\u001b[0m\n",
      "\u001b[32m[I 2022-04-27 11:56:19,428]\u001b[0m Trial 84 finished with value: 0.8141815025093202 and parameters: {'C': 2.4873271163634767}. Best is trial 36 with value: 0.8176447231035372.\u001b[0m\n",
      "\u001b[32m[I 2022-04-27 11:56:20,027]\u001b[0m Trial 85 finished with value: 0.7813701287187935 and parameters: {'C': 13.812841023890394}. Best is trial 36 with value: 0.8176447231035372.\u001b[0m\n",
      "\u001b[32m[I 2022-04-27 11:56:20,357]\u001b[0m Trial 86 finished with value: 0.7823277165288501 and parameters: {'C': 13.11632633734679}. Best is trial 36 with value: 0.8176447231035372.\u001b[0m\n",
      "\u001b[32m[I 2022-04-27 11:56:20,697]\u001b[0m Trial 87 finished with value: 0.7811446930040037 and parameters: {'C': 14.168830205759232}. Best is trial 36 with value: 0.8176447231035372.\u001b[0m\n",
      "\u001b[32m[I 2022-04-27 11:56:21,479]\u001b[0m Trial 89 finished with value: 0.7955549599108639 and parameters: {'C': 6.018753460168931}. Best is trial 36 with value: 0.8176447231035372.\u001b[0m\n",
      "\u001b[32m[I 2022-04-27 11:56:21,511]\u001b[0m Trial 88 finished with value: 0.7624924242097579 and parameters: {'C': 43.54498513743303}. Best is trial 36 with value: 0.8176447231035372.\u001b[0m\n",
      "\u001b[32m[I 2022-04-27 11:56:22,513]\u001b[0m Trial 91 finished with value: 0.7974996690550634 and parameters: {'C': 5.488219079859661}. Best is trial 36 with value: 0.8176447231035372.\u001b[0m\n",
      "\u001b[32m[I 2022-04-27 11:56:22,535]\u001b[0m Trial 90 finished with value: 0.7637689316750242 and parameters: {'C': 47.197545561322045}. Best is trial 36 with value: 0.8176447231035372.\u001b[0m\n",
      "\u001b[32m[I 2022-04-27 11:56:23,374]\u001b[0m Trial 94 finished with value: 0.4406683757706328 and parameters: {'C': 0.026301870143899286}. Best is trial 36 with value: 0.8176447231035372.\u001b[0m\n",
      "\u001b[32m[I 2022-04-27 11:56:23,396]\u001b[0m Trial 93 finished with value: 0.7962072149992488 and parameters: {'C': 5.691321767766091}. Best is trial 36 with value: 0.8176447231035372.\u001b[0m\n",
      "\u001b[32m[I 2022-04-27 11:56:23,444]\u001b[0m Trial 92 finished with value: 0.7641089338031433 and parameters: {'C': 47.59964058651571}. Best is trial 36 with value: 0.8176447231035372.\u001b[0m\n",
      "\u001b[32m[I 2022-04-27 11:56:23,586]\u001b[0m Trial 95 finished with value: 0.816072383423009 and parameters: {'C': 2.1492859865844443}. Best is trial 36 with value: 0.8176447231035372.\u001b[0m\n",
      "\u001b[32m[I 2022-04-27 11:56:23,675]\u001b[0m Trial 96 finished with value: 0.8152987320143342 and parameters: {'C': 2.2669731988438553}. Best is trial 36 with value: 0.8176447231035372.\u001b[0m\n",
      "\u001b[32m[I 2022-04-27 11:56:23,788]\u001b[0m Trial 97 finished with value: 0.8141815025093202 and parameters: {'C': 2.4728038258783536}. Best is trial 36 with value: 0.8176447231035372.\u001b[0m\n",
      "\u001b[32m[I 2022-04-27 11:56:23,934]\u001b[0m Trial 98 finished with value: 0.8163695442785925 and parameters: {'C': 2.2185751737794632}. Best is trial 36 with value: 0.8176447231035372.\u001b[0m\n",
      "\u001b[32m[I 2022-04-27 11:56:23,999]\u001b[0m Trial 99 finished with value: 0.8156492565441855 and parameters: {'C': 2.099502208340685}. Best is trial 36 with value: 0.8176447231035372.\u001b[0m\n"
     ]
    }
   ],
   "source": [
    "def objectivel(trial,x_train,y_train):\n",
    "    c = trial.suggest_float('C',0,100)\n",
    "    model = LinearSVC(C=c)\n",
    "    score = cross_val_score(model,x_train,y_train,n_jobs=-1,cv=5,scoring='f1_macro')\n",
    "    return score.mean()\n",
    "\n",
    "study1 = optuna.create_study(direction='maximize',study_name = 'text_classflinear')\n",
    "func = lambda trial: objectivel(trial,x_train,y_train)\n",
    "study1.optimize(func,n_trials=100,n_jobs=-1)"
   ]
  },
  {
   "cell_type": "code",
   "execution_count": 16,
   "id": "7a7ed1be",
   "metadata": {},
   "outputs": [
    {
     "data": {
      "text/plain": [
       "{'C': 1.0460413230593264}"
      ]
     },
     "execution_count": 16,
     "metadata": {},
     "output_type": "execute_result"
    }
   ],
   "source": [
    "study1.best_params"
   ]
  },
  {
   "cell_type": "code",
   "execution_count": 17,
   "id": "e5e5b9ac",
   "metadata": {},
   "outputs": [
    {
     "data": {
      "text/plain": [
       "LinearSVC(C=1.2735466278415457)"
      ]
     },
     "execution_count": 17,
     "metadata": {},
     "output_type": "execute_result"
    }
   ],
   "source": [
    "lsvco = LinearSVC(C = 1.2735466278415457)\n",
    "lsvco.fit(x_train,y_train)"
   ]
  },
  {
   "cell_type": "code",
   "execution_count": 18,
   "id": "732cb21c",
   "metadata": {},
   "outputs": [
    {
     "name": "stdout",
     "output_type": "stream",
     "text": [
      "Train : \n",
      "              precision    recall  f1-score   support\n",
      "\n",
      "          -1       0.91      0.99      0.95       361\n",
      "           0       1.00      0.96      0.98      1981\n",
      "           1       0.95      0.99      0.97      1001\n",
      "\n",
      "    accuracy                           0.97      3343\n",
      "   macro avg       0.95      0.98      0.96      3343\n",
      "weighted avg       0.97      0.97      0.97      3343\n",
      "\n",
      "Test : \n",
      "              precision    recall  f1-score   support\n",
      "\n",
      "          -1       0.64      0.84      0.72        69\n",
      "           0       0.97      0.85      0.91       530\n",
      "           1       0.79      0.92      0.85       237\n",
      "\n",
      "    accuracy                           0.87       836\n",
      "   macro avg       0.80      0.87      0.83       836\n",
      "weighted avg       0.89      0.87      0.87       836\n",
      "\n"
     ]
    }
   ],
   "source": [
    "train_pred = lsvco.predict(x_train)\n",
    "test_pred = lsvco.predict(x_test)\n",
    "print(\"Train : \")\n",
    "print(classification_report(train_pred,y_train))\n",
    "print(\"Test : \")\n",
    "print(classification_report(test_pred,y_test))"
   ]
  },
  {
   "cell_type": "code",
   "execution_count": 19,
   "id": "328020cc",
   "metadata": {},
   "outputs": [],
   "source": [
    "def objective(trial,x_train,y_train):\n",
    "    c = trial.suggest_float('C',0,100)\n",
    "    k = trial.suggest_categorical('kernel',['linear', 'poly', 'rbf', 'sigmoid'])\n",
    "    model = SVC(C=c,kernel=k)\n",
    "    score = cross_val_score(model,x_train,y_train,n_jobs=-1,cv=5,scoring='f1_macro')\n",
    "    return score.mean()"
   ]
  },
  {
   "cell_type": "code",
   "execution_count": 20,
   "id": "acaba810",
   "metadata": {
    "scrolled": true
   },
   "outputs": [
    {
     "name": "stderr",
     "output_type": "stream",
     "text": [
      "\u001b[32m[I 2022-04-27 11:56:24,159]\u001b[0m A new study created in memory with name: text_classf\u001b[0m\n",
      "\u001b[32m[I 2022-04-27 11:56:30,140]\u001b[0m Trial 0 finished with value: 0.8020822335165392 and parameters: {'C': 5.393414807532615, 'kernel': 'sigmoid'}. Best is trial 0 with value: 0.8020822335165392.\u001b[0m\n",
      "\u001b[32m[I 2022-04-27 11:56:33,908]\u001b[0m Trial 1 finished with value: 0.6950487251353816 and parameters: {'C': 62.168680923509356, 'kernel': 'sigmoid'}. Best is trial 0 with value: 0.8020822335165392.\u001b[0m\n",
      "\u001b[32m[I 2022-04-27 11:56:36,998]\u001b[0m Trial 2 finished with value: 0.7655032778601263 and parameters: {'C': 13.331408513382403, 'kernel': 'linear'}. Best is trial 0 with value: 0.8020822335165392.\u001b[0m\n",
      "\u001b[32m[I 2022-04-27 11:56:40,257]\u001b[0m Trial 3 finished with value: 0.7505926072813519 and parameters: {'C': 53.494285918875576, 'kernel': 'linear'}. Best is trial 0 with value: 0.8020822335165392.\u001b[0m\n",
      "\u001b[32m[I 2022-04-27 11:56:46,324]\u001b[0m Trial 4 finished with value: 0.537357903764019 and parameters: {'C': 83.8664032782799, 'kernel': 'poly'}. Best is trial 0 with value: 0.8020822335165392.\u001b[0m\n",
      "\u001b[32m[I 2022-04-27 11:56:47,935]\u001b[0m Trial 5 finished with value: 0.7612127072211141 and parameters: {'C': 20.673991110982104, 'kernel': 'linear'}. Best is trial 0 with value: 0.8020822335165392.\u001b[0m\n",
      "\u001b[32m[I 2022-04-27 11:56:53,995]\u001b[0m Trial 6 finished with value: 0.537357903764019 and parameters: {'C': 72.28953213564373, 'kernel': 'poly'}. Best is trial 0 with value: 0.8020822335165392.\u001b[0m\n",
      "\u001b[32m[I 2022-04-27 11:56:58,071]\u001b[0m Trial 7 finished with value: 0.537357903764019 and parameters: {'C': 49.27083482090755, 'kernel': 'poly'}. Best is trial 0 with value: 0.8020822335165392.\u001b[0m\n",
      "\u001b[32m[I 2022-04-27 11:57:03,969]\u001b[0m Trial 8 finished with value: 0.7783024618235783 and parameters: {'C': 82.03447030725206, 'kernel': 'rbf'}. Best is trial 0 with value: 0.8020822335165392.\u001b[0m\n",
      "\u001b[32m[I 2022-04-27 11:57:08,550]\u001b[0m Trial 9 finished with value: 0.7783024618235783 and parameters: {'C': 98.01911218000524, 'kernel': 'rbf'}. Best is trial 0 with value: 0.8020822335165392.\u001b[0m\n",
      "\u001b[32m[I 2022-04-27 11:57:12,931]\u001b[0m Trial 10 finished with value: 0.6982795796497492 and parameters: {'C': 50.40672008924947, 'kernel': 'sigmoid'}. Best is trial 0 with value: 0.8020822335165392.\u001b[0m\n",
      "\u001b[32m[I 2022-04-27 11:57:16,273]\u001b[0m Trial 11 finished with value: 0.6812768846196673 and parameters: {'C': 92.02301907696727, 'kernel': 'sigmoid'}. Best is trial 0 with value: 0.8020822335165392.\u001b[0m\n",
      "\u001b[32m[I 2022-04-27 11:57:21,639]\u001b[0m Trial 12 finished with value: 0.537357903764019 and parameters: {'C': 62.58539824335572, 'kernel': 'poly'}. Best is trial 0 with value: 0.8020822335165392.\u001b[0m\n",
      "\u001b[32m[I 2022-04-27 11:57:25,595]\u001b[0m Trial 13 finished with value: 0.7188251969947753 and parameters: {'C': 29.90901391023295, 'kernel': 'sigmoid'}. Best is trial 0 with value: 0.8020822335165392.\u001b[0m\n",
      "\u001b[32m[I 2022-04-27 11:57:30,394]\u001b[0m Trial 14 finished with value: 0.7689734279703486 and parameters: {'C': 1.5872237382026064, 'kernel': 'rbf'}. Best is trial 0 with value: 0.8020822335165392.\u001b[0m\n",
      "\u001b[32m[I 2022-04-27 11:57:35,910]\u001b[0m Trial 15 finished with value: 0.7783024618235783 and parameters: {'C': 31.007810976169537, 'kernel': 'rbf'}. Best is trial 0 with value: 0.8020822335165392.\u001b[0m\n",
      "\u001b[32m[I 2022-04-27 11:57:39,923]\u001b[0m Trial 16 finished with value: 0.7448916121684015 and parameters: {'C': 1.2897817002147924, 'kernel': 'rbf'}. Best is trial 0 with value: 0.8020822335165392.\u001b[0m\n",
      "\u001b[32m[I 2022-04-27 11:57:45,740]\u001b[0m Trial 17 finished with value: 0.7783024618235783 and parameters: {'C': 35.15846599128737, 'kernel': 'rbf'}. Best is trial 0 with value: 0.8020822335165392.\u001b[0m\n",
      "\u001b[32m[I 2022-04-27 11:57:50,287]\u001b[0m Trial 18 finished with value: 0.7783024618235783 and parameters: {'C': 35.82821596667843, 'kernel': 'rbf'}. Best is trial 0 with value: 0.8020822335165392.\u001b[0m\n",
      "\u001b[32m[I 2022-04-27 11:57:55,135]\u001b[0m Trial 19 finished with value: 0.7783024618235783 and parameters: {'C': 81.90044057456026, 'kernel': 'rbf'}. Best is trial 0 with value: 0.8020822335165392.\u001b[0m\n",
      "\u001b[32m[I 2022-04-27 11:57:59,104]\u001b[0m Trial 20 finished with value: 0.6820888404234274 and parameters: {'C': 99.60898547711595, 'kernel': 'sigmoid'}. Best is trial 0 with value: 0.8020822335165392.\u001b[0m\n",
      "\u001b[32m[I 2022-04-27 11:58:03,661]\u001b[0m Trial 21 finished with value: 0.7115278171243185 and parameters: {'C': 36.782136939657526, 'kernel': 'sigmoid'}. Best is trial 0 with value: 0.8020822335165392.\u001b[0m\n",
      "\u001b[32m[I 2022-04-27 11:58:09,130]\u001b[0m Trial 22 finished with value: 0.7391452575302577 and parameters: {'C': 16.235169221338598, 'kernel': 'sigmoid'}. Best is trial 0 with value: 0.8020822335165392.\u001b[0m\n",
      "\u001b[32m[I 2022-04-27 11:58:13,567]\u001b[0m Trial 23 finished with value: 0.7379241762772755 and parameters: {'C': 16.641908141517014, 'kernel': 'sigmoid'}. Best is trial 0 with value: 0.8020822335165392.\u001b[0m\n",
      "\u001b[32m[I 2022-04-27 11:58:17,557]\u001b[0m Trial 24 finished with value: 0.7783024618235783 and parameters: {'C': 36.98976474819652, 'kernel': 'rbf'}. Best is trial 0 with value: 0.8020822335165392.\u001b[0m\n",
      "\u001b[32m[I 2022-04-27 11:58:21,602]\u001b[0m Trial 25 finished with value: 0.7785250824389593 and parameters: {'C': 14.181551507212642, 'kernel': 'rbf'}. Best is trial 0 with value: 0.8020822335165392.\u001b[0m\n",
      "\u001b[32m[I 2022-04-27 11:58:28,742]\u001b[0m Trial 26 finished with value: 0.7783024618235783 and parameters: {'C': 39.61947770823023, 'kernel': 'rbf'}. Best is trial 0 with value: 0.8020822335165392.\u001b[0m\n",
      "\u001b[32m[I 2022-04-27 11:58:33,564]\u001b[0m Trial 27 finished with value: 0.7783024618235783 and parameters: {'C': 40.07575870139663, 'kernel': 'rbf'}. Best is trial 0 with value: 0.8020822335165392.\u001b[0m\n",
      "\u001b[32m[I 2022-04-27 11:58:38,164]\u001b[0m Trial 28 finished with value: 0.7783024618235783 and parameters: {'C': 43.053736490646905, 'kernel': 'rbf'}. Best is trial 0 with value: 0.8020822335165392.\u001b[0m\n",
      "\u001b[32m[I 2022-04-27 11:58:42,393]\u001b[0m Trial 29 finished with value: 0.778514476294063 and parameters: {'C': 7.959377117315381, 'kernel': 'rbf'}. Best is trial 0 with value: 0.8020822335165392.\u001b[0m\n",
      "\u001b[32m[I 2022-04-27 11:58:48,887]\u001b[0m Trial 30 finished with value: 0.778514476294063 and parameters: {'C': 8.267527011004873, 'kernel': 'rbf'}. Best is trial 0 with value: 0.8020822335165392.\u001b[0m\n",
      "\u001b[32m[I 2022-04-27 11:58:50,685]\u001b[0m Trial 31 finished with value: 0.7695563714214337 and parameters: {'C': 11.03211923163608, 'kernel': 'linear'}. Best is trial 0 with value: 0.8020822335165392.\u001b[0m\n",
      "\u001b[32m[I 2022-04-27 11:58:53,388]\u001b[0m Trial 32 finished with value: 0.7858573292190132 and parameters: {'C': 7.167007963819076, 'kernel': 'linear'}. Best is trial 0 with value: 0.8020822335165392.\u001b[0m\n",
      "\u001b[32m[I 2022-04-27 11:58:56,149]\u001b[0m Trial 33 finished with value: 0.7769444461948017 and parameters: {'C': 8.43588957483028, 'kernel': 'linear'}. Best is trial 0 with value: 0.8020822335165392.\u001b[0m\n",
      "\u001b[32m[I 2022-04-27 11:59:02,717]\u001b[0m Trial 34 finished with value: 0.778514476294063 and parameters: {'C': 6.993558956553115, 'kernel': 'rbf'}. Best is trial 0 with value: 0.8020822335165392.\u001b[0m\n",
      "\u001b[32m[I 2022-04-27 11:59:07,378]\u001b[0m Trial 35 finished with value: 0.778514476294063 and parameters: {'C': 7.280996945756311, 'kernel': 'rbf'}. Best is trial 0 with value: 0.8020822335165392.\u001b[0m\n",
      "\u001b[32m[I 2022-04-27 11:59:08,979]\u001b[0m Trial 36 finished with value: 0.7589284508405264 and parameters: {'C': 23.589776618814604, 'kernel': 'linear'}. Best is trial 0 with value: 0.8020822335165392.\u001b[0m\n",
      "\u001b[32m[I 2022-04-27 11:59:12,297]\u001b[0m Trial 37 finished with value: 0.7595273953426939 and parameters: {'C': 22.57851489324273, 'kernel': 'linear'}. Best is trial 0 with value: 0.8020822335165392.\u001b[0m\n",
      "\u001b[32m[I 2022-04-27 11:59:16,504]\u001b[0m Trial 38 finished with value: 0.7605120792925879 and parameters: {'C': 21.610507401610946, 'kernel': 'linear'}. Best is trial 0 with value: 0.8020822335165392.\u001b[0m\n",
      "\u001b[32m[I 2022-04-27 11:59:19,187]\u001b[0m Trial 39 finished with value: 0.7589284508405264 and parameters: {'C': 23.585004268189525, 'kernel': 'linear'}. Best is trial 0 with value: 0.8020822335165392.\u001b[0m\n",
      "\u001b[32m[I 2022-04-27 11:59:22,062]\u001b[0m Trial 40 finished with value: 0.7605120792925879 and parameters: {'C': 21.53683563738142, 'kernel': 'linear'}. Best is trial 0 with value: 0.8020822335165392.\u001b[0m\n",
      "\u001b[32m[I 2022-04-27 11:59:25,295]\u001b[0m Trial 41 finished with value: 0.6098597775512001 and parameters: {'C': 0.2893373651245401, 'kernel': 'linear'}. Best is trial 0 with value: 0.8020822335165392.\u001b[0m\n",
      "\u001b[32m[I 2022-04-27 11:59:31,011]\u001b[0m Trial 42 finished with value: 0.2420778339978194 and parameters: {'C': 0.08963007480333118, 'kernel': 'poly'}. Best is trial 0 with value: 0.8020822335165392.\u001b[0m\n",
      "\u001b[32m[I 2022-04-27 11:59:35,627]\u001b[0m Trial 43 finished with value: 0.537357903764019 and parameters: {'C': 15.16712557215583, 'kernel': 'poly'}. Best is trial 0 with value: 0.8020822335165392.\u001b[0m\n",
      "\u001b[32m[I 2022-04-27 11:59:39,605]\u001b[0m Trial 44 finished with value: 0.537357903764019 and parameters: {'C': 13.883528833595996, 'kernel': 'poly'}. Best is trial 0 with value: 0.8020822335165392.\u001b[0m\n",
      "\u001b[32m[I 2022-04-27 11:59:43,750]\u001b[0m Trial 45 finished with value: 0.537357903764019 and parameters: {'C': 14.035489503696173, 'kernel': 'poly'}. Best is trial 0 with value: 0.8020822335165392.\u001b[0m\n",
      "\u001b[32m[I 2022-04-27 11:59:50,155]\u001b[0m Trial 46 finished with value: 0.537357903764019 and parameters: {'C': 14.21763848689978, 'kernel': 'poly'}. Best is trial 0 with value: 0.8020822335165392.\u001b[0m\n",
      "\u001b[32m[I 2022-04-27 11:59:53,382]\u001b[0m Trial 47 finished with value: 0.7893414475569136 and parameters: {'C': 5.879835631198987, 'kernel': 'sigmoid'}. Best is trial 0 with value: 0.8020822335165392.\u001b[0m\n",
      "\u001b[32m[I 2022-04-27 11:59:56,055]\u001b[0m Trial 48 finished with value: 0.7941846112373864 and parameters: {'C': 5.80609053923852, 'kernel': 'sigmoid'}. Best is trial 0 with value: 0.8020822335165392.\u001b[0m\n",
      "\u001b[32m[I 2022-04-27 11:59:58,595]\u001b[0m Trial 49 finished with value: 0.7986126784978986 and parameters: {'C': 5.052572125434786, 'kernel': 'sigmoid'}. Best is trial 0 with value: 0.8020822335165392.\u001b[0m\n"
     ]
    }
   ],
   "source": [
    "study2 = optuna.create_study(direction='maximize',study_name = 'text_classf')\n",
    "func = lambda trial: objective(trial,x_train,y_train)\n",
    "study2.optimize(func,n_trials=50,n_jobs=-1)"
   ]
  },
  {
   "cell_type": "code",
   "execution_count": 21,
   "id": "98e4b577",
   "metadata": {},
   "outputs": [
    {
     "data": {
      "text/plain": [
       "{'C': 5.393414807532615, 'kernel': 'sigmoid'}"
      ]
     },
     "execution_count": 21,
     "metadata": {},
     "output_type": "execute_result"
    }
   ],
   "source": [
    "study2.best_params"
   ]
  },
  {
   "cell_type": "code",
   "execution_count": 22,
   "id": "5927c9b5",
   "metadata": {},
   "outputs": [
    {
     "data": {
      "text/plain": [
       "SVC(C=3.191749602515152, kernel='linear')"
      ]
     },
     "execution_count": 22,
     "metadata": {},
     "output_type": "execute_result"
    }
   ],
   "source": [
    "model = SVC(C=3.191749602515152, kernel = 'linear')\n",
    "model.fit(x_train,y_train)"
   ]
  },
  {
   "cell_type": "code",
   "execution_count": 23,
   "id": "2a7b881d",
   "metadata": {},
   "outputs": [
    {
     "name": "stdout",
     "output_type": "stream",
     "text": [
      "Train :\n",
      "              precision    recall  f1-score   support\n",
      "\n",
      "          -1       0.91      0.98      0.94       365\n",
      "           0       1.00      0.95      0.97      1997\n",
      "           1       0.93      0.99      0.96       981\n",
      "\n",
      "    accuracy                           0.96      3343\n",
      "   macro avg       0.94      0.97      0.96      3343\n",
      "weighted avg       0.97      0.96      0.96      3343\n",
      "\n",
      "Test : \n",
      "              precision    recall  f1-score   support\n",
      "\n",
      "          -1       0.68      0.78      0.73        79\n",
      "           0       0.96      0.85      0.90       525\n",
      "           1       0.77      0.92      0.84       232\n",
      "\n",
      "    accuracy                           0.87       836\n",
      "   macro avg       0.80      0.85      0.82       836\n",
      "weighted avg       0.88      0.87      0.87       836\n",
      "\n"
     ]
    }
   ],
   "source": [
    "print('Train :')\n",
    "print(classification_report(model.predict(x_train),y_train))\n",
    "print(\"Test : \")\n",
    "print(classification_report(model.predict(x_test),y_test))"
   ]
  },
  {
   "cell_type": "code",
   "execution_count": null,
   "id": "2f73961f",
   "metadata": {},
   "outputs": [],
   "source": []
  },
  {
   "cell_type": "markdown",
   "id": "0bac4c64",
   "metadata": {},
   "source": [
    "***RFC***"
   ]
  },
  {
   "cell_type": "code",
   "execution_count": 24,
   "id": "19e8b0fa",
   "metadata": {},
   "outputs": [],
   "source": [
    "#random forest"
   ]
  },
  {
   "cell_type": "code",
   "execution_count": 25,
   "id": "e2e6e2d5",
   "metadata": {},
   "outputs": [],
   "source": [
    "from sklearn.ensemble import RandomForestClassifier"
   ]
  },
  {
   "cell_type": "code",
   "execution_count": 26,
   "id": "9fc58c8e",
   "metadata": {},
   "outputs": [
    {
     "data": {
      "text/plain": [
       "RandomForestClassifier()"
      ]
     },
     "execution_count": 26,
     "metadata": {},
     "output_type": "execute_result"
    }
   ],
   "source": [
    "rfc = RandomForestClassifier()\n",
    "rfc.fit(x_train,y_train)"
   ]
  },
  {
   "cell_type": "code",
   "execution_count": 27,
   "id": "29dbb820",
   "metadata": {},
   "outputs": [
    {
     "name": "stdout",
     "output_type": "stream",
     "text": [
      "Train :\n",
      "              precision    recall  f1-score   support\n",
      "\n",
      "          -1       1.00      1.00      1.00       392\n",
      "           0       1.00      1.00      1.00      1907\n",
      "           1       1.00      1.00      1.00      1044\n",
      "\n",
      "    accuracy                           1.00      3343\n",
      "   macro avg       1.00      1.00      1.00      3343\n",
      "weighted avg       1.00      1.00      1.00      3343\n",
      "\n",
      "Test : \n",
      "              precision    recall  f1-score   support\n",
      "\n",
      "          -1       0.65      0.91      0.76        65\n",
      "           0       0.99      0.86      0.92       537\n",
      "           1       0.80      0.94      0.86       234\n",
      "\n",
      "    accuracy                           0.89       836\n",
      "   macro avg       0.81      0.90      0.85       836\n",
      "weighted avg       0.91      0.89      0.89       836\n",
      "\n"
     ]
    }
   ],
   "source": [
    "print('Train :')\n",
    "print(classification_report(rfc.predict(x_train),y_train))\n",
    "print(\"Test : \")\n",
    "print(classification_report(rfc.predict(x_test),y_test))"
   ]
  },
  {
   "cell_type": "code",
   "execution_count": 28,
   "id": "8b5ac5c4",
   "metadata": {
    "scrolled": false
   },
   "outputs": [
    {
     "name": "stderr",
     "output_type": "stream",
     "text": [
      "\u001b[32m[I 2022-04-27 12:00:08,633]\u001b[0m A new study created in memory with name: text_classfrfc\u001b[0m\n",
      "\u001b[32m[I 2022-04-27 12:00:14,774]\u001b[0m Trial 0 finished with value: 0.2704114539195024 and parameters: {'n_estimators': 420, 'criterion': 'entropy', 'max_depth': 4}. Best is trial 0 with value: 0.2704114539195024.\u001b[0m\n",
      "\u001b[32m[I 2022-04-27 12:00:35,499]\u001b[0m Trial 1 finished with value: 0.5788346852085332 and parameters: {'n_estimators': 905, 'criterion': 'entropy', 'max_depth': 19}. Best is trial 1 with value: 0.5788346852085332.\u001b[0m\n",
      "\u001b[32m[I 2022-04-27 12:00:38,172]\u001b[0m Trial 2 finished with value: 0.7483787350678742 and parameters: {'n_estimators': 451, 'criterion': 'gini', 'max_depth': 40}. Best is trial 2 with value: 0.7483787350678742.\u001b[0m\n",
      "\u001b[32m[I 2022-04-27 12:01:00,423]\u001b[0m Trial 4 finished with value: 0.7041987096936595 and parameters: {'n_estimators': 217, 'criterion': 'gini', 'max_depth': 31}. Best is trial 2 with value: 0.7483787350678742.\u001b[0m\n",
      "\u001b[32m[I 2022-04-27 12:01:02,540]\u001b[0m Trial 5 finished with value: 0.5359226191031643 and parameters: {'n_estimators': 172, 'criterion': 'entropy', 'max_depth': 16}. Best is trial 2 with value: 0.7483787350678742.\u001b[0m\n",
      "\u001b[32m[I 2022-04-27 12:01:05,220]\u001b[0m Trial 3 finished with value: 0.8100932615190282 and parameters: {'n_estimators': 668, 'criterion': 'gini', 'max_depth': 84}. Best is trial 3 with value: 0.8100932615190282.\u001b[0m\n",
      "\u001b[32m[I 2022-04-27 12:01:06,179]\u001b[0m Trial 6 finished with value: 0.7779833498606474 and parameters: {'n_estimators': 71, 'criterion': 'entropy', 'max_depth': 63}. Best is trial 3 with value: 0.8100932615190282.\u001b[0m\n",
      "\u001b[32m[I 2022-04-27 12:01:34,636]\u001b[0m Trial 7 finished with value: 0.8168370287986159 and parameters: {'n_estimators': 622, 'criterion': 'gini', 'max_depth': 94}. Best is trial 7 with value: 0.8168370287986159.\u001b[0m\n",
      "\u001b[32m[I 2022-04-27 12:01:48,558]\u001b[0m Trial 8 finished with value: 0.8159985451936873 and parameters: {'n_estimators': 583, 'criterion': 'gini', 'max_depth': 97}. Best is trial 7 with value: 0.8168370287986159.\u001b[0m\n",
      "\u001b[32m[I 2022-04-27 12:02:12,333]\u001b[0m Trial 9 finished with value: 0.7415360716234214 and parameters: {'n_estimators': 910, 'criterion': 'entropy', 'max_depth': 39}. Best is trial 7 with value: 0.8168370287986159.\u001b[0m\n",
      "\u001b[32m[I 2022-04-27 12:02:28,445]\u001b[0m Trial 10 finished with value: 0.8032103672250284 and parameters: {'n_estimators': 732, 'criterion': 'gini', 'max_depth': 80}. Best is trial 7 with value: 0.8168370287986159.\u001b[0m\n",
      "\u001b[32m[I 2022-04-27 12:02:36,837]\u001b[0m Trial 11 finished with value: 0.5520654803771936 and parameters: {'n_estimators': 564, 'criterion': 'entropy', 'max_depth': 16}. Best is trial 7 with value: 0.8168370287986159.\u001b[0m\n",
      "\u001b[32m[I 2022-04-27 12:02:47,933]\u001b[0m Trial 12 finished with value: 0.781110338703671 and parameters: {'n_estimators': 307, 'criterion': 'entropy', 'max_depth': 71}. Best is trial 7 with value: 0.8168370287986159.\u001b[0m\n",
      "\u001b[32m[I 2022-04-27 12:03:12,361]\u001b[0m Trial 13 finished with value: 0.7981302803686453 and parameters: {'n_estimators': 742, 'criterion': 'gini', 'max_depth': 69}. Best is trial 7 with value: 0.8168370287986159.\u001b[0m\n",
      "\u001b[32m[I 2022-04-27 12:03:29,907]\u001b[0m Trial 14 finished with value: 0.8189524044863274 and parameters: {'n_estimators': 637, 'criterion': 'gini', 'max_depth': 97}. Best is trial 14 with value: 0.8189524044863274.\u001b[0m\n",
      "\u001b[32m[I 2022-04-27 12:03:50,621]\u001b[0m Trial 15 finished with value: 0.8180066482748666 and parameters: {'n_estimators': 708, 'criterion': 'gini', 'max_depth': 100}. Best is trial 14 with value: 0.8189524044863274.\u001b[0m\n",
      "\u001b[32m[I 2022-04-27 12:04:12,441]\u001b[0m Trial 16 finished with value: 0.8187137069877723 and parameters: {'n_estimators': 732, 'criterion': 'gini', 'max_depth': 100}. Best is trial 14 with value: 0.8189524044863274.\u001b[0m\n",
      "\u001b[32m[I 2022-04-27 12:04:32,241]\u001b[0m Trial 17 finished with value: 0.8169123148240451 and parameters: {'n_estimators': 583, 'criterion': 'gini', 'max_depth': 99}. Best is trial 14 with value: 0.8189524044863274.\u001b[0m\n",
      "\u001b[32m[I 2022-04-27 12:04:59,587]\u001b[0m Trial 18 finished with value: 0.8173178476689336 and parameters: {'n_estimators': 808, 'criterion': 'gini', 'max_depth': 99}. Best is trial 14 with value: 0.8189524044863274.\u001b[0m\n",
      "\u001b[32m[I 2022-04-27 12:05:31,830]\u001b[0m Trial 19 finished with value: 0.8193978976330876 and parameters: {'n_estimators': 998, 'criterion': 'gini', 'max_depth': 99}. Best is trial 19 with value: 0.8193978976330876.\u001b[0m\n",
      "\u001b[32m[I 2022-04-27 12:05:45,650]\u001b[0m Trial 20 finished with value: 0.7862419667442307 and parameters: {'n_estimators': 805, 'criterion': 'gini', 'max_depth': 57}. Best is trial 19 with value: 0.8193978976330876.\u001b[0m\n",
      "\u001b[32m[I 2022-04-27 12:06:00,715]\u001b[0m Trial 21 finished with value: 0.7806020759627083 and parameters: {'n_estimators': 827, 'criterion': 'gini', 'max_depth': 53}. Best is trial 19 with value: 0.8193978976330876.\u001b[0m\n",
      "\u001b[32m[I 2022-04-27 12:06:29,559]\u001b[0m Trial 22 finished with value: 0.7788099412424863 and parameters: {'n_estimators': 979, 'criterion': 'gini', 'max_depth': 56}. Best is trial 19 with value: 0.8193978976330876.\u001b[0m\n",
      "\u001b[32m[I 2022-04-27 12:06:50,553]\u001b[0m Trial 23 finished with value: 0.7833363004142079 and parameters: {'n_estimators': 998, 'criterion': 'gini', 'max_depth': 56}. Best is trial 19 with value: 0.8193978976330876.\u001b[0m\n",
      "\u001b[32m[I 2022-04-27 12:07:21,124]\u001b[0m Trial 24 finished with value: 0.807298607985056 and parameters: {'n_estimators': 973, 'criterion': 'gini', 'max_depth': 85}. Best is trial 19 with value: 0.8193978976330876.\u001b[0m\n",
      "\u001b[32m[I 2022-04-27 12:07:46,315]\u001b[0m Trial 25 finished with value: 0.8079723026871439 and parameters: {'n_estimators': 990, 'criterion': 'gini', 'max_depth': 85}. Best is trial 19 with value: 0.8193978976330876.\u001b[0m\n",
      "\u001b[32m[I 2022-04-27 12:08:18,474]\u001b[0m Trial 26 finished with value: 0.8061493310476646 and parameters: {'n_estimators': 944, 'criterion': 'gini', 'max_depth': 86}. Best is trial 19 with value: 0.8193978976330876.\u001b[0m\n",
      "\u001b[32m[I 2022-04-27 12:08:29,730]\u001b[0m Trial 27 finished with value: 0.8092251611232569 and parameters: {'n_estimators': 494, 'criterion': 'gini', 'max_depth': 86}. Best is trial 19 with value: 0.8193978976330876.\u001b[0m\n",
      "\u001b[32m[I 2022-04-27 12:08:44,232]\u001b[0m Trial 28 finished with value: 0.8151961401238793 and parameters: {'n_estimators': 515, 'criterion': 'gini', 'max_depth': 88}. Best is trial 19 with value: 0.8193978976330876.\u001b[0m\n",
      "\u001b[32m[I 2022-04-27 12:08:56,449]\u001b[0m Trial 29 finished with value: 0.8112488813719281 and parameters: {'n_estimators': 494, 'criterion': 'gini', 'max_depth': 90}. Best is trial 19 with value: 0.8193978976330876.\u001b[0m\n",
      "\u001b[32m[I 2022-04-27 12:09:05,588]\u001b[0m Trial 30 finished with value: 0.8117617873711881 and parameters: {'n_estimators': 396, 'criterion': 'gini', 'max_depth': 91}. Best is trial 19 with value: 0.8193978976330876.\u001b[0m\n",
      "\u001b[32m[I 2022-04-27 12:09:20,119]\u001b[0m Trial 31 finished with value: 0.8145736410466096 and parameters: {'n_estimators': 372, 'criterion': 'gini', 'max_depth': 92}. Best is trial 19 with value: 0.8193978976330876.\u001b[0m\n",
      "\u001b[32m[I 2022-04-27 12:09:29,714]\u001b[0m Trial 32 finished with value: 0.7986883502653911 and parameters: {'n_estimators': 350, 'criterion': 'gini', 'max_depth': 75}. Best is trial 19 with value: 0.8193978976330876.\u001b[0m\n",
      "\u001b[32m[I 2022-04-27 12:09:38,618]\u001b[0m Trial 33 finished with value: 0.8021127957318772 and parameters: {'n_estimators': 325, 'criterion': 'gini', 'max_depth': 77}. Best is trial 19 with value: 0.8193978976330876.\u001b[0m\n",
      "\u001b[32m[I 2022-04-27 12:10:01,744]\u001b[0m Trial 34 finished with value: 0.8016837786445199 and parameters: {'n_estimators': 691, 'criterion': 'gini', 'max_depth': 75}. Best is trial 19 with value: 0.8193978976330876.\u001b[0m\n",
      "\u001b[32m[I 2022-04-27 12:10:21,988]\u001b[0m Trial 35 finished with value: 0.7984861007437092 and parameters: {'n_estimators': 699, 'criterion': 'gini', 'max_depth': 75}. Best is trial 19 with value: 0.8193978976330876.\u001b[0m\n",
      "\u001b[32m[I 2022-04-27 12:10:41,019]\u001b[0m Trial 36 finished with value: 0.8187665904286968 and parameters: {'n_estimators': 678, 'criterion': 'gini', 'max_depth': 100}. Best is trial 19 with value: 0.8193978976330876.\u001b[0m\n",
      "\u001b[32m[I 2022-04-27 12:10:58,749]\u001b[0m Trial 37 finished with value: 0.8170035004241427 and parameters: {'n_estimators': 688, 'criterion': 'gini', 'max_depth': 100}. Best is trial 19 with value: 0.8193978976330876.\u001b[0m\n",
      "\u001b[32m[I 2022-04-27 12:11:30,597]\u001b[0m Trial 38 finished with value: 0.8171773712214774 and parameters: {'n_estimators': 845, 'criterion': 'gini', 'max_depth': 100}. Best is trial 19 with value: 0.8193978976330876.\u001b[0m\n",
      "\u001b[32m[I 2022-04-27 12:12:15,865]\u001b[0m Trial 39 finished with value: 0.7973783807337205 and parameters: {'n_estimators': 872, 'criterion': 'entropy', 'max_depth': 98}. Best is trial 19 with value: 0.8193978976330876.\u001b[0m\n",
      "\u001b[32m[I 2022-04-27 12:12:31,456]\u001b[0m Trial 40 finished with value: 0.8114349467426181 and parameters: {'n_estimators': 870, 'criterion': 'gini', 'max_depth': 93}. Best is trial 19 with value: 0.8193978976330876.\u001b[0m\n",
      "\u001b[32m[I 2022-04-27 12:12:33,895]\u001b[0m Trial 41 finished with value: 0.271691933003075 and parameters: {'n_estimators': 835, 'criterion': 'entropy', 'max_depth': 4}. Best is trial 19 with value: 0.8193978976330876.\u001b[0m\n",
      "\u001b[32m[I 2022-04-27 12:12:39,599]\u001b[0m Trial 42 finished with value: 0.2434400383856718 and parameters: {'n_estimators': 627, 'criterion': 'entropy', 'max_depth': 2}. Best is trial 19 with value: 0.8193978976330876.\u001b[0m\n",
      "\u001b[32m[I 2022-04-27 12:13:05,790]\u001b[0m Trial 44 finished with value: 0.2995958395998364 and parameters: {'n_estimators': 633, 'criterion': 'gini', 'max_depth': 5}. Best is trial 19 with value: 0.8193978976330876.\u001b[0m\n",
      "\u001b[32m[I 2022-04-27 12:13:10,127]\u001b[0m Trial 43 finished with value: 0.7572354241935393 and parameters: {'n_estimators': 628, 'criterion': 'entropy', 'max_depth': 46}. Best is trial 19 with value: 0.8193978976330876.\u001b[0m\n",
      "\u001b[32m[I 2022-04-27 12:13:36,792]\u001b[0m Trial 45 finished with value: 0.815045983813727 and parameters: {'n_estimators': 633, 'criterion': 'gini', 'max_depth': 95}. Best is trial 19 with value: 0.8193978976330876.\u001b[0m\n",
      "\u001b[32m[I 2022-04-27 12:13:59,419]\u001b[0m Trial 46 finished with value: 0.8041012343906179 and parameters: {'n_estimators': 760, 'criterion': 'gini', 'max_depth': 81}. Best is trial 19 with value: 0.8193978976330876.\u001b[0m\n",
      "\u001b[32m[I 2022-04-27 12:14:19,827]\u001b[0m Trial 47 finished with value: 0.8162823417913456 and parameters: {'n_estimators': 759, 'criterion': 'gini', 'max_depth': 94}. Best is trial 19 with value: 0.8193978976330876.\u001b[0m\n",
      "\u001b[32m[I 2022-04-27 12:14:40,842]\u001b[0m Trial 48 finished with value: 0.8159147168854959 and parameters: {'n_estimators': 761, 'criterion': 'gini', 'max_depth': 95}. Best is trial 19 with value: 0.8193978976330876.\u001b[0m\n",
      "\u001b[32m[I 2022-04-27 12:15:04,546]\u001b[0m Trial 49 finished with value: 0.8035374673810951 and parameters: {'n_estimators': 759, 'criterion': 'gini', 'max_depth': 81}. Best is trial 19 with value: 0.8193978976330876.\u001b[0m\n",
      "\u001b[32m[I 2022-04-27 12:15:29,212]\u001b[0m Trial 50 finished with value: 0.8148510436376417 and parameters: {'n_estimators': 764, 'criterion': 'gini', 'max_depth': 94}. Best is trial 19 with value: 0.8193978976330876.\u001b[0m\n",
      "\u001b[32m[I 2022-04-27 12:15:38,466]\u001b[0m Trial 51 finished with value: 0.7909619402059608 and parameters: {'n_estimators': 540, 'criterion': 'gini', 'max_depth': 65}. Best is trial 19 with value: 0.8193978976330876.\u001b[0m\n",
      "\u001b[32m[I 2022-04-27 12:15:45,099]\u001b[0m Trial 52 finished with value: 0.6569508902667478 and parameters: {'n_estimators': 540, 'criterion': 'gini', 'max_depth': 26}. Best is trial 19 with value: 0.8193978976330876.\u001b[0m\n",
      "\u001b[32m[I 2022-04-27 12:16:06,284]\u001b[0m Trial 53 finished with value: 0.8128031517383647 and parameters: {'n_estimators': 550, 'criterion': 'gini', 'max_depth': 89}. Best is trial 19 with value: 0.8193978976330876.\u001b[0m\n",
      "\u001b[32m[I 2022-04-27 12:16:21,789]\u001b[0m Trial 54 finished with value: 0.8149333920288606 and parameters: {'n_estimators': 549, 'criterion': 'gini', 'max_depth': 100}. Best is trial 19 with value: 0.8193978976330876.\u001b[0m\n",
      "\u001b[32m[I 2022-04-27 12:16:48,032]\u001b[0m Trial 55 finished with value: 0.8195420664463409 and parameters: {'n_estimators': 807, 'criterion': 'gini', 'max_depth': 99}. Best is trial 55 with value: 0.8195420664463409.\u001b[0m\n",
      "\u001b[33m[W 2022-04-27 12:16:59,135]\u001b[0m Trial 57 failed, because the objective function returned nan.\u001b[0m\n",
      "\u001b[32m[I 2022-04-27 12:17:09,141]\u001b[0m Trial 56 finished with value: 0.8177999102068858 and parameters: {'n_estimators': 798, 'criterion': 'gini', 'max_depth': 97}. Best is trial 55 with value: 0.8195420664463409.\u001b[0m\n",
      "\u001b[32m[I 2022-04-27 12:17:44,137]\u001b[0m Trial 58 finished with value: 0.8162489766463915 and parameters: {'n_estimators': 914, 'criterion': 'gini', 'max_depth': 97}. Best is trial 55 with value: 0.8195420664463409.\u001b[0m\n",
      "\u001b[32m[I 2022-04-27 12:18:08,212]\u001b[0m Trial 59 finished with value: 0.813359354481771 and parameters: {'n_estimators': 918, 'criterion': 'gini', 'max_depth': 96}. Best is trial 55 with value: 0.8195420664463409.\u001b[0m\n",
      "\u001b[32m[I 2022-04-27 12:18:38,624]\u001b[0m Trial 60 finished with value: 0.8182388752470373 and parameters: {'n_estimators': 919, 'criterion': 'gini', 'max_depth': 96}. Best is trial 55 with value: 0.8195420664463409.\u001b[0m\n",
      "\u001b[32m[I 2022-04-27 12:18:48,728]\u001b[0m Trial 61 finished with value: 0.8101916189845237 and parameters: {'n_estimators': 442, 'criterion': 'gini', 'max_depth': 89}. Best is trial 55 with value: 0.8195420664463409.\u001b[0m\n",
      "\u001b[32m[I 2022-04-27 12:19:12,432]\u001b[0m Trial 62 finished with value: 0.8135638817111623 and parameters: {'n_estimators': 709, 'criterion': 'gini', 'max_depth': 89}. Best is trial 55 with value: 0.8195420664463409.\u001b[0m\n",
      "\u001b[32m[I 2022-04-27 12:19:31,127]\u001b[0m Trial 63 finished with value: 0.8104807514456202 and parameters: {'n_estimators': 729, 'criterion': 'gini', 'max_depth': 88}. Best is trial 55 with value: 0.8195420664463409.\u001b[0m\n",
      "\u001b[32m[I 2022-04-27 12:20:12,216]\u001b[0m Trial 64 finished with value: 0.7937044164122482 and parameters: {'n_estimators': 878, 'criterion': 'entropy', 'max_depth': 89}. Best is trial 55 with value: 0.8195420664463409.\u001b[0m\n",
      "\u001b[32m[I 2022-04-27 12:20:34,732]\u001b[0m Trial 65 finished with value: 0.8122667047739467 and parameters: {'n_estimators': 950, 'criterion': 'gini', 'max_depth': 91}. Best is trial 55 with value: 0.8195420664463409.\u001b[0m\n",
      "\u001b[32m[I 2022-04-27 12:20:50,686]\u001b[0m Trial 66 finished with value: 0.8117592677130151 and parameters: {'n_estimators': 662, 'criterion': 'gini', 'max_depth': 92}. Best is trial 55 with value: 0.8195420664463409.\u001b[0m\n",
      "\u001b[32m[I 2022-04-27 12:21:20,013]\u001b[0m Trial 67 finished with value: 0.8145132463802313 and parameters: {'n_estimators': 949, 'criterion': 'gini', 'max_depth': 92}. Best is trial 55 with value: 0.8195420664463409.\u001b[0m\n",
      "\u001b[32m[I 2022-04-27 12:21:56,487]\u001b[0m Trial 68 finished with value: 0.8071142592940485 and parameters: {'n_estimators': 958, 'criterion': 'gini', 'max_depth': 84}. Best is trial 55 with value: 0.8195420664463409.\u001b[0m\n",
      "\u001b[32m[I 2022-04-27 12:22:00,820]\u001b[0m Trial 70 finished with value: 0.80459848207975 and parameters: {'n_estimators': 62, 'criterion': 'gini', 'max_depth': 82}. Best is trial 55 with value: 0.8195420664463409.\u001b[0m\n",
      "\u001b[32m[I 2022-04-27 12:22:02,540]\u001b[0m Trial 69 finished with value: 0.8068514121280268 and parameters: {'n_estimators': 591, 'criterion': 'gini', 'max_depth': 82}. Best is trial 55 with value: 0.8195420664463409.\u001b[0m\n",
      "\u001b[32m[I 2022-04-27 12:22:23,588]\u001b[0m Trial 72 finished with value: 0.814833920278636 and parameters: {'n_estimators': 70, 'criterion': 'gini', 'max_depth': 100}. Best is trial 55 with value: 0.8195420664463409.\u001b[0m\n",
      "\u001b[32m[I 2022-04-27 12:22:34,181]\u001b[0m Trial 71 finished with value: 0.8043429800327381 and parameters: {'n_estimators': 793, 'criterion': 'gini', 'max_depth': 83}. Best is trial 55 with value: 0.8195420664463409.\u001b[0m\n",
      "\u001b[32m[I 2022-04-27 12:22:50,752]\u001b[0m Trial 73 finished with value: 0.817569968181906 and parameters: {'n_estimators': 598, 'criterion': 'gini', 'max_depth': 100}. Best is trial 55 with value: 0.8195420664463409.\u001b[0m\n",
      "\u001b[32m[I 2022-04-27 12:23:14,765]\u001b[0m Trial 74 finished with value: 0.8162703802257447 and parameters: {'n_estimators': 792, 'criterion': 'gini', 'max_depth': 100}. Best is trial 55 with value: 0.8195420664463409.\u001b[0m\n",
      "\u001b[32m[I 2022-04-27 12:23:30,579]\u001b[0m Trial 75 finished with value: 0.8177224302080754 and parameters: {'n_estimators': 668, 'criterion': 'gini', 'max_depth': 97}. Best is trial 55 with value: 0.8195420664463409.\u001b[0m\n",
      "\u001b[32m[I 2022-04-27 12:24:01,665]\u001b[0m Trial 76 finished with value: 0.8161338909076274 and parameters: {'n_estimators': 793, 'criterion': 'gini', 'max_depth': 96}. Best is trial 55 with value: 0.8195420664463409.\u001b[0m\n",
      "\u001b[32m[I 2022-04-27 12:24:23,453]\u001b[0m Trial 77 finished with value: 0.816997053885775 and parameters: {'n_estimators': 791, 'criterion': 'gini', 'max_depth': 97}. Best is trial 55 with value: 0.8195420664463409.\u001b[0m\n",
      "\u001b[32m[I 2022-04-27 12:24:39,026]\u001b[0m Trial 78 finished with value: 0.8153450490869542 and parameters: {'n_estimators': 653, 'criterion': 'gini', 'max_depth': 97}. Best is trial 55 with value: 0.8195420664463409.\u001b[0m\n",
      "\u001b[32m[I 2022-04-27 12:25:05,949]\u001b[0m Trial 79 finished with value: 0.8192349539816834 and parameters: {'n_estimators': 848, 'criterion': 'gini', 'max_depth': 96}. Best is trial 55 with value: 0.8195420664463409.\u001b[0m\n",
      "\u001b[32m[I 2022-04-27 12:25:30,453]\u001b[0m Trial 81 finished with value: 0.727362596643671 and parameters: {'n_estimators': 244, 'criterion': 'gini', 'max_depth': 35}. Best is trial 55 with value: 0.8195420664463409.\u001b[0m\n",
      "\u001b[32m[I 2022-04-27 12:25:39,161]\u001b[0m Trial 80 finished with value: 0.8171363123993954 and parameters: {'n_estimators': 852, 'criterion': 'gini', 'max_depth': 97}. Best is trial 55 with value: 0.8195420664463409.\u001b[0m\n",
      "\u001b[32m[I 2022-04-27 12:26:11,792]\u001b[0m Trial 82 finished with value: 0.788134460816103 and parameters: {'n_estimators': 721, 'criterion': 'entropy', 'max_depth': 78}. Best is trial 55 with value: 0.8195420664463409.\u001b[0m\n",
      "\u001b[32m[I 2022-04-27 12:26:19,279]\u001b[0m Trial 84 finished with value: 0.6390612026572854 and parameters: {'n_estimators': 1, 'criterion': 'entropy', 'max_depth': 86}. Best is trial 55 with value: 0.8195420664463409.\u001b[0m\n",
      "\u001b[32m[I 2022-04-27 12:26:43,738]\u001b[0m Trial 83 finished with value: 0.7882720649706725 and parameters: {'n_estimators': 889, 'criterion': 'entropy', 'max_depth': 78}. Best is trial 55 with value: 0.8195420664463409.\u001b[0m\n",
      "\u001b[32m[I 2022-04-27 12:27:16,885]\u001b[0m Trial 85 finished with value: 0.7935769235336715 and parameters: {'n_estimators': 885, 'criterion': 'entropy', 'max_depth': 93}. Best is trial 55 with value: 0.8195420664463409.\u001b[0m\n",
      "\u001b[32m[I 2022-04-27 12:27:35,921]\u001b[0m Trial 86 finished with value: 0.8140499970156829 and parameters: {'n_estimators': 820, 'criterion': 'gini', 'max_depth': 94}. Best is trial 55 with value: 0.8195420664463409.\u001b[0m\n",
      "\u001b[32m[I 2022-04-27 12:28:07,281]\u001b[0m Trial 87 finished with value: 0.8147650421419452 and parameters: {'n_estimators': 825, 'criterion': 'gini', 'max_depth': 94}. Best is trial 55 with value: 0.8195420664463409.\u001b[0m\n",
      "\u001b[32m[I 2022-04-27 12:28:33,732]\u001b[0m Trial 88 finished with value: 0.8186951190866063 and parameters: {'n_estimators': 818, 'criterion': 'gini', 'max_depth': 94}. Best is trial 55 with value: 0.8195420664463409.\u001b[0m\n",
      "\u001b[32m[I 2022-04-27 12:28:57,600]\u001b[0m Trial 89 finished with value: 0.8171167357722442 and parameters: {'n_estimators': 814, 'criterion': 'gini', 'max_depth': 94}. Best is trial 55 with value: 0.8195420664463409.\u001b[0m\n",
      "\u001b[32m[I 2022-04-27 12:29:13,335]\u001b[0m Trial 90 finished with value: 0.7656021407330066 and parameters: {'n_estimators': 854, 'criterion': 'gini', 'max_depth': 47}. Best is trial 55 with value: 0.8195420664463409.\u001b[0m\n",
      "\u001b[32m[I 2022-04-27 12:29:51,751]\u001b[0m Trial 91 finished with value: 0.8094715211051632 and parameters: {'n_estimators': 1000, 'criterion': 'gini', 'max_depth': 87}. Best is trial 55 with value: 0.8195420664463409.\u001b[0m\n",
      "\u001b[32m[I 2022-04-27 12:30:17,128]\u001b[0m Trial 92 finished with value: 0.8103393264228915 and parameters: {'n_estimators': 997, 'criterion': 'gini', 'max_depth': 86}. Best is trial 55 with value: 0.8195420664463409.\u001b[0m\n",
      "\u001b[32m[I 2022-04-27 12:30:46,730]\u001b[0m Trial 93 finished with value: 0.8177146559658569 and parameters: {'n_estimators': 998, 'criterion': 'gini', 'max_depth': 98}. Best is trial 55 with value: 0.8195420664463409.\u001b[0m\n",
      "\u001b[32m[I 2022-04-27 12:31:10,790]\u001b[0m Trial 94 finished with value: 0.8098196913727846 and parameters: {'n_estimators': 988, 'criterion': 'gini', 'max_depth': 87}. Best is trial 55 with value: 0.8195420664463409.\u001b[0m\n",
      "\u001b[32m[I 2022-04-27 12:31:48,390]\u001b[0m Trial 95 finished with value: 0.8172143082097325 and parameters: {'n_estimators': 922, 'criterion': 'gini', 'max_depth': 98}. Best is trial 55 with value: 0.8195420664463409.\u001b[0m\n",
      "\u001b[32m[I 2022-04-27 12:32:06,171]\u001b[0m Trial 96 finished with value: 0.8164769660297952 and parameters: {'n_estimators': 724, 'criterion': 'gini', 'max_depth': 98}. Best is trial 55 with value: 0.8195420664463409.\u001b[0m\n",
      "\u001b[32m[I 2022-04-27 12:32:32,668]\u001b[0m Trial 97 finished with value: 0.8165364527875714 and parameters: {'n_estimators': 923, 'criterion': 'gini', 'max_depth': 91}. Best is trial 55 with value: 0.8195420664463409.\u001b[0m\n",
      "\u001b[32m[I 2022-04-27 12:32:55,670]\u001b[0m Trial 98 finished with value: 0.8100104568124076 and parameters: {'n_estimators': 918, 'criterion': 'gini', 'max_depth': 92}. Best is trial 55 with value: 0.8195420664463409.\u001b[0m\n",
      "\u001b[32m[I 2022-04-27 12:33:17,311]\u001b[0m Trial 99 finished with value: 0.8148985884147925 and parameters: {'n_estimators': 746, 'criterion': 'gini', 'max_depth': 92}. Best is trial 55 with value: 0.8195420664463409.\u001b[0m\n"
     ]
    }
   ],
   "source": [
    "def objectiverfc(trial,x_train,y_train):\n",
    "    n = trial.suggest_int('n_estimators',0,1000)\n",
    "    c = trial.suggest_categorical('criterion',['gini','entropy'])\n",
    "    md = trial.suggest_int('max_depth',1,100)\n",
    "    model = RandomForestClassifier(n_estimators=n,criterion=c,max_depth=md)\n",
    "    score = cross_val_score(model,x_train,y_train,n_jobs=-1,cv=5,scoring='f1_macro')\n",
    "    return score.mean()\n",
    "\n",
    "study3 = optuna.create_study(direction='maximize',study_name = 'text_classfrfc')\n",
    "func = lambda trial: objectiverfc(trial,x_train,y_train)\n",
    "study3.optimize(func,n_trials=100,n_jobs=-1)"
   ]
  },
  {
   "cell_type": "code",
   "execution_count": 29,
   "id": "95da39a5",
   "metadata": {},
   "outputs": [
    {
     "data": {
      "text/plain": [
       "{'n_estimators': 807, 'criterion': 'gini', 'max_depth': 99}"
      ]
     },
     "execution_count": 29,
     "metadata": {},
     "output_type": "execute_result"
    }
   ],
   "source": [
    "study3.best_params"
   ]
  },
  {
   "cell_type": "code",
   "execution_count": 30,
   "id": "060fa0e5",
   "metadata": {},
   "outputs": [
    {
     "data": {
      "text/plain": [
       "RandomForestClassifier(max_depth=100, n_estimators=391)"
      ]
     },
     "execution_count": 30,
     "metadata": {},
     "output_type": "execute_result"
    }
   ],
   "source": [
    "rfc = RandomForestClassifier(n_estimators= 391, criterion='gini', max_depth=100)\n",
    "rfc.fit(x_train,y_train)"
   ]
  },
  {
   "cell_type": "code",
   "execution_count": 31,
   "id": "f5a6ab44",
   "metadata": {
    "scrolled": false
   },
   "outputs": [
    {
     "name": "stdout",
     "output_type": "stream",
     "text": [
      "Train :\n",
      "              precision    recall  f1-score   support\n",
      "\n",
      "          -1       0.82      1.00      0.90       322\n",
      "           0       1.00      0.91      0.95      2091\n",
      "           1       0.89      1.00      0.94       930\n",
      "\n",
      "    accuracy                           0.94      3343\n",
      "   macro avg       0.90      0.97      0.93      3343\n",
      "weighted avg       0.95      0.94      0.95      3343\n",
      "\n",
      "Test : \n",
      "              precision    recall  f1-score   support\n",
      "\n",
      "          -1       0.58      0.90      0.71        59\n",
      "           0       0.99      0.83      0.90       556\n",
      "           1       0.76      0.95      0.84       221\n",
      "\n",
      "    accuracy                           0.87       836\n",
      "   macro avg       0.78      0.89      0.82       836\n",
      "weighted avg       0.90      0.87      0.87       836\n",
      "\n"
     ]
    }
   ],
   "source": [
    "print('Train :')\n",
    "print(classification_report(rfc.predict(x_train),y_train))\n",
    "print(\"Test : \")\n",
    "print(classification_report(rfc.predict(x_test),y_test))"
   ]
  },
  {
   "cell_type": "code",
   "execution_count": 32,
   "id": "207c9344",
   "metadata": {},
   "outputs": [
    {
     "name": "stdout",
     "output_type": "stream",
     "text": [
      "[0]\n",
      "[1]\n",
      "[1]\n"
     ]
    }
   ],
   "source": [
    "vc = vectorizer.transform(['Generative adversarial networks (GANs) have recently found applications in image editing. However, most GAN based image editing methods often require large scale datasets with semantic segmentation annotations for training, only provide high level control, or merely interpolate between different images. Here, we propose EditGAN, a novel method for high quality, high precision semantic image editing, allowing users to edit images by modifying their highly detailed part segmentation masks, e.g., drawing a new mask for the headlight of a car. EditGAN builds on a GAN framework that jointly models images and their semantic segmentations, requiring only a handful of labeled examples, making it a scalable tool for editing. Specifically, we embed an image into the GAN latent space and perform conditional latent code optimization according to the segmentation edit, which effectively also modifies the image. To amortize optimization, we find editing vectors in latent space that realize the edits. The framework allows us to learn an arbitrary number of editing vectors, which can then be directly applied on other images at interactive rates. We experimentally show that EditGAN can manipulate images with an unprecedented level of detail and freedom, while preserving full image quality.We can also easily combine multiple edits and perform plausible edits beyond EditGAN training data. We demonstrate EditGAN on a wide variety of image types and quantitatively outperform several previous editing methods on standard editing benchmark tasks'])\n",
    "print(rfc.predict(vc))\n",
    "print(lsvco.predict(vc))\n",
    "print(model.predict(vc))"
   ]
  },
  {
   "cell_type": "markdown",
   "id": "12a61589",
   "metadata": {},
   "source": [
    "***Voting Classifier***"
   ]
  },
  {
   "cell_type": "code",
   "execution_count": 33,
   "id": "54b63409",
   "metadata": {},
   "outputs": [],
   "source": [
    "x_train,x_test,y_train,y_test = train_test_split(X,y,test_size=0.2,random_state=50)"
   ]
  },
  {
   "cell_type": "code",
   "execution_count": 34,
   "id": "ad9424ba",
   "metadata": {},
   "outputs": [
    {
     "data": {
      "text/plain": [
       "Pipeline(steps=[('tfidfvectorizer', TfidfVectorizer(min_df=0.001)),\n",
       "                ('linearsvc', LinearSVC(C=0.37694603570267127))])"
      ]
     },
     "execution_count": 34,
     "metadata": {},
     "output_type": "execute_result"
    }
   ],
   "source": [
    "lsvc_pipeline = make_pipeline(TfidfVectorizer(min_df=0.001),LinearSVC(C =0.37694603570267127))\n",
    "lsvc_pipeline.fit(x_train,y_train)"
   ]
  },
  {
   "cell_type": "code",
   "execution_count": 35,
   "id": "4124c418",
   "metadata": {},
   "outputs": [
    {
     "data": {
      "text/plain": [
       "Pipeline(steps=[('tfidfvectorizer', TfidfVectorizer(min_df=0.001)),\n",
       "                ('svc',\n",
       "                 SVC(C=0.6451288708678313, kernel='linear', probability=True))])"
      ]
     },
     "execution_count": 35,
     "metadata": {},
     "output_type": "execute_result"
    }
   ],
   "source": [
    "svc_pipeline = make_pipeline(TfidfVectorizer(min_df=0.001),SVC(C=0.6451288708678313, kernel='linear',probability=True))\n",
    "svc_pipeline.fit(x_train,y_train)"
   ]
  },
  {
   "cell_type": "code",
   "execution_count": null,
   "id": "aace02d4",
   "metadata": {},
   "outputs": [],
   "source": []
  },
  {
   "cell_type": "markdown",
   "id": "b3a526c6",
   "metadata": {},
   "source": [
    "***Multinomial NB***"
   ]
  },
  {
   "cell_type": "code",
   "execution_count": null,
   "id": "7ce86df5",
   "metadata": {},
   "outputs": [],
   "source": []
  },
  {
   "cell_type": "code",
   "execution_count": null,
   "id": "8fb5e08a",
   "metadata": {},
   "outputs": [],
   "source": []
  },
  {
   "cell_type": "code",
   "execution_count": null,
   "id": "cac697de",
   "metadata": {},
   "outputs": [],
   "source": []
  },
  {
   "cell_type": "code",
   "execution_count": null,
   "id": "31b4c323",
   "metadata": {},
   "outputs": [],
   "source": []
  },
  {
   "cell_type": "code",
   "execution_count": null,
   "id": "a30bd804",
   "metadata": {},
   "outputs": [],
   "source": []
  },
  {
   "cell_type": "code",
   "execution_count": null,
   "id": "eeb867e3",
   "metadata": {},
   "outputs": [],
   "source": []
  },
  {
   "cell_type": "code",
   "execution_count": 36,
   "id": "2818f576",
   "metadata": {},
   "outputs": [
    {
     "data": {
      "text/plain": [
       "Pipeline(steps=[('tfidfvectorizer', TfidfVectorizer(min_df=0.001)),\n",
       "                ('multinomialnb', MultinomialNB(alpha=0.05))])"
      ]
     },
     "execution_count": 36,
     "metadata": {},
     "output_type": "execute_result"
    }
   ],
   "source": [
    "mnb_pipeline = make_pipeline(TfidfVectorizer(min_df=0.001), MultinomialNB(alpha=0.05, fit_prior=True))\n",
    "mnb_pipeline.fit(x_train,y_train)"
   ]
  },
  {
   "cell_type": "code",
   "execution_count": 37,
   "id": "95a71851",
   "metadata": {
    "scrolled": true
   },
   "outputs": [
    {
     "name": "stdout",
     "output_type": "stream",
     "text": [
      "              precision    recall  f1-score   support\n",
      "\n",
      "          -1       0.79      0.91      0.84       337\n",
      "           0       0.96      0.92      0.94      1993\n",
      "           1       0.88      0.91      0.89      1013\n",
      "\n",
      "    accuracy                           0.91      3343\n",
      "   macro avg       0.87      0.91      0.89      3343\n",
      "weighted avg       0.92      0.91      0.91      3343\n",
      "\n",
      "              precision    recall  f1-score   support\n",
      "\n",
      "          -1       0.40      0.73      0.51        49\n",
      "           0       0.89      0.80      0.85       520\n",
      "           1       0.72      0.75      0.73       267\n",
      "\n",
      "    accuracy                           0.78       836\n",
      "   macro avg       0.67      0.76      0.70       836\n",
      "weighted avg       0.81      0.78      0.79       836\n",
      "\n"
     ]
    }
   ],
   "source": [
    "print(classification_report(mnb_pipeline.predict(x_train),y_train))\n",
    "print(classification_report(mnb_pipeline.predict(x_test),y_test))"
   ]
  },
  {
   "cell_type": "code",
   "execution_count": 38,
   "id": "355e0756",
   "metadata": {},
   "outputs": [
    {
     "data": {
      "text/plain": [
       "Pipeline(steps=[('tfidfvectorizer', TfidfVectorizer(min_df=0.001)),\n",
       "                ('randomforestclassifier',\n",
       "                 RandomForestClassifier(criterion='entropy', max_depth=46,\n",
       "                                        n_estimators=695))])"
      ]
     },
     "execution_count": 38,
     "metadata": {},
     "output_type": "execute_result"
    }
   ],
   "source": [
    "rfc_pipeline = make_pipeline(TfidfVectorizer(min_df=0.001),RandomForestClassifier(n_estimators=695, criterion='entropy', max_depth=46))\n",
    "rfc_pipeline.fit(x_train,y_train)"
   ]
  },
  {
   "cell_type": "code",
   "execution_count": 39,
   "id": "94077856",
   "metadata": {},
   "outputs": [
    {
     "data": {
      "text/plain": [
       "VotingClassifier(estimators=[('SVC',\n",
       "                              Pipeline(steps=[('tfidfvectorizer',\n",
       "                                               TfidfVectorizer(min_df=0.001)),\n",
       "                                              ('svc',\n",
       "                                               SVC(C=0.6451288708678313,\n",
       "                                                   kernel='linear',\n",
       "                                                   probability=True))])),\n",
       "                             ('RFC',\n",
       "                              Pipeline(steps=[('tfidfvectorizer',\n",
       "                                               TfidfVectorizer(min_df=0.001)),\n",
       "                                              ('randomforestclassifier',\n",
       "                                               RandomForestClassifier(criterion='entropy',\n",
       "                                                                      max_depth=46,\n",
       "                                                                      n_estimators=695))])),\n",
       "                             ('MNB',\n",
       "                              Pipeline(steps=[('tfidfvectorizer',\n",
       "                                               TfidfVectorizer(min_df=0.001)),\n",
       "                                              ('multinomialnb',\n",
       "                                               MultinomialNB(alpha=0.05))]))],\n",
       "                 voting='soft')"
      ]
     },
     "execution_count": 39,
     "metadata": {},
     "output_type": "execute_result"
    }
   ],
   "source": [
    "estimator = []\n",
    "# estimator.append(('LSVC', lsvc_pipeline))\n",
    "estimator.append(('SVC', svc_pipeline))\n",
    "estimator.append(('RFC', rfc_pipeline))\n",
    "estimator.append(('MNB',mnb_pipeline))\n",
    "\n",
    "vot_soft = VotingClassifier(estimators=estimator, voting='soft')\n",
    "vot_soft.fit(x_train,y_train)\n"
   ]
  },
  {
   "cell_type": "code",
   "execution_count": 40,
   "id": "fcb41530",
   "metadata": {},
   "outputs": [
    {
     "name": "stdout",
     "output_type": "stream",
     "text": [
      "              precision    recall  f1-score   support\n",
      "\n",
      "          -1       0.80      0.95      0.87       327\n",
      "           0       0.99      0.92      0.95      2061\n",
      "           1       0.90      0.98      0.94       955\n",
      "\n",
      "    accuracy                           0.94      3343\n",
      "   macro avg       0.90      0.95      0.92      3343\n",
      "weighted avg       0.95      0.94      0.94      3343\n",
      "\n",
      "              precision    recall  f1-score   support\n",
      "\n",
      "          -1       0.60      0.90      0.72        61\n",
      "           0       0.97      0.82      0.89       548\n",
      "           1       0.75      0.92      0.83       227\n",
      "\n",
      "    accuracy                           0.86       836\n",
      "   macro avg       0.77      0.88      0.81       836\n",
      "weighted avg       0.88      0.86      0.86       836\n",
      "\n"
     ]
    }
   ],
   "source": [
    "train_pred = vot_soft.predict(x_train)\n",
    "print(classification_report(train_pred,y_train))\n",
    "\n",
    "test_pred = vot_soft.predict(x_test)\n",
    "print(classification_report(test_pred,y_test))"
   ]
  },
  {
   "cell_type": "code",
   "execution_count": 41,
   "id": "bdbe6697",
   "metadata": {},
   "outputs": [
    {
     "name": "stderr",
     "output_type": "stream",
     "text": [
      "[Parallel(n_jobs=-1)]: Using backend LokyBackend with 4 concurrent workers.\n",
      "[Parallel(n_jobs=-1)]: Done   5 out of   5 | elapsed:   46.3s finished\n"
     ]
    },
    {
     "data": {
      "text/plain": [
       "0.8528248435863699"
      ]
     },
     "execution_count": 41,
     "metadata": {},
     "output_type": "execute_result"
    }
   ],
   "source": [
    "voting_cvs = cross_val_score(vot_soft,x_train,y_train,cv=5,verbose=2,n_jobs=-1).mean()\n",
    "voting_cvs"
   ]
  },
  {
   "cell_type": "code",
   "execution_count": null,
   "id": "72d2985d",
   "metadata": {},
   "outputs": [],
   "source": []
  },
  {
   "cell_type": "markdown",
   "id": "701170fc",
   "metadata": {},
   "source": [
    "***XGBOOST***"
   ]
  },
  {
   "cell_type": "code",
   "execution_count": 42,
   "id": "e333741b",
   "metadata": {},
   "outputs": [],
   "source": [
    "from xgboost import XGBClassifier"
   ]
  },
  {
   "cell_type": "code",
   "execution_count": 43,
   "id": "8810f908",
   "metadata": {},
   "outputs": [
    {
     "name": "stdout",
     "output_type": "stream",
     "text": [
      "[12:35:01] WARNING: C:/Users/Administrator/workspace/xgboost-win64_release_1.5.1/src/learner.cc:1115: Starting in XGBoost 1.3.0, the default evaluation metric used with the objective 'multi:softprob' was changed from 'merror' to 'mlogloss'. Explicitly set eval_metric if you'd like to restore the old behavior.\n"
     ]
    },
    {
     "data": {
      "text/plain": [
       "Pipeline(steps=[('tfidfvectorizer', TfidfVectorizer(min_df=0.001)),\n",
       "                ('xgbclassifier',\n",
       "                 XGBClassifier(base_score=0.5, booster='gbtree',\n",
       "                               colsample_bylevel=1, colsample_bynode=1,\n",
       "                               colsample_bytree=1, enable_categorical=False,\n",
       "                               gamma=0, gpu_id=-1, importance_type=None,\n",
       "                               interaction_constraints='',\n",
       "                               learning_rate=0.300000012, max_delta_step=0,\n",
       "                               max_depth=6, min_child_weight=1, missing=nan,\n",
       "                               monotone_constraints='()', n_estimators=100,\n",
       "                               n_jobs=4, num_parallel_tree=1,\n",
       "                               objective='multi:softprob', predictor='auto',\n",
       "                               random_state=0, reg_alpha=0, reg_lambda=1,\n",
       "                               scale_pos_weight=None, subsample=1,\n",
       "                               tree_method='exact', validate_parameters=1,\n",
       "                               verbosity=None))])"
      ]
     },
     "execution_count": 43,
     "metadata": {},
     "output_type": "execute_result"
    }
   ],
   "source": [
    "xgb = make_pipeline(TfidfVectorizer(min_df=0.001), XGBClassifier())\n",
    "xgb.fit(x_train,y_train)"
   ]
  },
  {
   "cell_type": "code",
   "execution_count": 44,
   "id": "3402708a",
   "metadata": {},
   "outputs": [
    {
     "name": "stdout",
     "output_type": "stream",
     "text": [
      "              precision    recall  f1-score   support\n",
      "\n",
      "          -1       0.84      1.00      0.91       329\n",
      "           0       1.00      0.92      0.96      2063\n",
      "           1       0.90      0.99      0.94       951\n",
      "\n",
      "    accuracy                           0.95      3343\n",
      "   macro avg       0.91      0.97      0.94      3343\n",
      "weighted avg       0.96      0.95      0.95      3343\n",
      "\n",
      "              precision    recall  f1-score   support\n",
      "\n",
      "          -1       0.62      0.86      0.72        65\n",
      "           0       0.98      0.85      0.91       543\n",
      "           1       0.78      0.94      0.85       228\n",
      "\n",
      "    accuracy                           0.87       836\n",
      "   macro avg       0.79      0.88      0.83       836\n",
      "weighted avg       0.90      0.87      0.88       836\n",
      "\n"
     ]
    }
   ],
   "source": [
    "print(classification_report(xgb.predict(x_train),y_train))\n",
    "print(classification_report(xgb.predict(x_test),y_test))"
   ]
  },
  {
   "cell_type": "code",
   "execution_count": 45,
   "id": "15c9cfb3",
   "metadata": {},
   "outputs": [
    {
     "name": "stderr",
     "output_type": "stream",
     "text": [
      "[Parallel(n_jobs=-1)]: Using backend LokyBackend with 4 concurrent workers.\n",
      "[Parallel(n_jobs=-1)]: Done   5 out of   5 | elapsed:  2.6min finished\n"
     ]
    },
    {
     "data": {
      "text/plain": [
       "0.17170206401435836"
      ]
     },
     "execution_count": 45,
     "metadata": {},
     "output_type": "execute_result"
    }
   ],
   "source": [
    "cvs = cross_val_predict(xgb,x_train,y_train,cv=5,verbose=2,n_jobs=-1).mean()\n",
    "cvs"
   ]
  },
  {
   "cell_type": "code",
   "execution_count": null,
   "id": "7e7ad0d7",
   "metadata": {},
   "outputs": [],
   "source": []
  },
  {
   "cell_type": "markdown",
   "id": "2e80a993",
   "metadata": {},
   "source": [
    "***PCA***"
   ]
  },
  {
   "cell_type": "code",
   "execution_count": 46,
   "id": "1d72b14d",
   "metadata": {},
   "outputs": [],
   "source": [
    "from sklearn.decomposition import PCA"
   ]
  },
  {
   "cell_type": "code",
   "execution_count": 47,
   "id": "be04aa20",
   "metadata": {},
   "outputs": [
    {
     "data": {
      "text/plain": [
       "<4179x1652 sparse matrix of type '<class 'numpy.float64'>'\n",
       "\twith 39835 stored elements in Compressed Sparse Row format>"
      ]
     },
     "execution_count": 47,
     "metadata": {},
     "output_type": "execute_result"
    }
   ],
   "source": [
    "X_vec"
   ]
  },
  {
   "cell_type": "code",
   "execution_count": 48,
   "id": "6794e6d1",
   "metadata": {},
   "outputs": [
    {
     "data": {
      "text/plain": [
       "PCA()"
      ]
     },
     "execution_count": 48,
     "metadata": {},
     "output_type": "execute_result"
    }
   ],
   "source": [
    "pca = PCA()\n",
    "pca.fit(X_vec.A)"
   ]
  },
  {
   "cell_type": "code",
   "execution_count": 49,
   "id": "c05f0955",
   "metadata": {},
   "outputs": [],
   "source": [
    "X_pca = pca.transform(X_vec.A)"
   ]
  },
  {
   "cell_type": "code",
   "execution_count": 50,
   "id": "5c18894c",
   "metadata": {},
   "outputs": [],
   "source": [
    "x_train,x_test,y_train,y_test = train_test_split(X_pca,y,test_size = 0.2)"
   ]
  },
  {
   "cell_type": "code",
   "execution_count": 51,
   "id": "2aa3b538",
   "metadata": {},
   "outputs": [
    {
     "data": {
      "text/plain": [
       "LinearSVC()"
      ]
     },
     "execution_count": 51,
     "metadata": {},
     "output_type": "execute_result"
    }
   ],
   "source": [
    "linear_svc = LinearSVC()\n",
    "linear_svc.fit(x_train, y_train)"
   ]
  },
  {
   "cell_type": "code",
   "execution_count": 52,
   "id": "892b23d8",
   "metadata": {},
   "outputs": [],
   "source": [
    "train_pred = linear_svc.predict(x_train)\n",
    "test_pred = linear_svc.predict(x_test)"
   ]
  },
  {
   "cell_type": "code",
   "execution_count": 53,
   "id": "5678eb47",
   "metadata": {},
   "outputs": [
    {
     "name": "stdout",
     "output_type": "stream",
     "text": [
      "              precision    recall  f1-score   support\n",
      "\n",
      "          -1       0.89      0.98      0.93       346\n",
      "           0       0.99      0.96      0.98      1964\n",
      "           1       0.95      0.98      0.97      1033\n",
      "\n",
      "    accuracy                           0.97      3343\n",
      "   macro avg       0.94      0.97      0.96      3343\n",
      "weighted avg       0.97      0.97      0.97      3343\n",
      "\n",
      "              precision    recall  f1-score   support\n",
      "\n",
      "          -1       0.61      0.88      0.72        69\n",
      "           0       0.96      0.84      0.90       550\n",
      "           1       0.76      0.89      0.82       217\n",
      "\n",
      "    accuracy                           0.86       836\n",
      "   macro avg       0.78      0.87      0.81       836\n",
      "weighted avg       0.88      0.86      0.86       836\n",
      "\n"
     ]
    }
   ],
   "source": [
    "print(classification_report(train_pred,y_train))\n",
    "print(classification_report(test_pred,y_test))"
   ]
  },
  {
   "cell_type": "markdown",
   "id": "7879dde0",
   "metadata": {},
   "source": [
    "***comparing models***"
   ]
  },
  {
   "cell_type": "code",
   "execution_count": 54,
   "id": "62076c59",
   "metadata": {},
   "outputs": [
    {
     "ename": "AttributeError",
     "evalue": "'numpy.ndarray' object has no attribute 'lower'",
     "output_type": "error",
     "traceback": [
      "\u001b[1;31m---------------------------------------------------------------------------\u001b[0m",
      "\u001b[1;31mAttributeError\u001b[0m                            Traceback (most recent call last)",
      "\u001b[1;32m~\\AppData\\Local\\Temp/ipykernel_17648/1887195086.py\u001b[0m in \u001b[0;36m<module>\u001b[1;34m\u001b[0m\n\u001b[0;32m      6\u001b[0m \u001b[1;33m\u001b[0m\u001b[0m\n\u001b[0;32m      7\u001b[0m \u001b[0mvot_soft\u001b[0m \u001b[1;33m=\u001b[0m \u001b[0mVotingClassifier\u001b[0m\u001b[1;33m(\u001b[0m\u001b[0mestimators\u001b[0m\u001b[1;33m=\u001b[0m\u001b[0mestimator\u001b[0m\u001b[1;33m,\u001b[0m \u001b[0mvoting\u001b[0m\u001b[1;33m=\u001b[0m\u001b[1;34m'soft'\u001b[0m\u001b[1;33m)\u001b[0m\u001b[1;33m\u001b[0m\u001b[1;33m\u001b[0m\u001b[0m\n\u001b[1;32m----> 8\u001b[1;33m \u001b[0mvot_soft\u001b[0m\u001b[1;33m.\u001b[0m\u001b[0mfit\u001b[0m\u001b[1;33m(\u001b[0m\u001b[0mx_train\u001b[0m\u001b[1;33m,\u001b[0m\u001b[0my_train\u001b[0m\u001b[1;33m)\u001b[0m\u001b[1;33m\u001b[0m\u001b[1;33m\u001b[0m\u001b[0m\n\u001b[0m",
      "\u001b[1;32m~\\anaconda3\\lib\\site-packages\\sklearn\\ensemble\\_voting.py\u001b[0m in \u001b[0;36mfit\u001b[1;34m(self, X, y, sample_weight)\u001b[0m\n\u001b[0;32m    322\u001b[0m         \u001b[0mtransformed_y\u001b[0m \u001b[1;33m=\u001b[0m \u001b[0mself\u001b[0m\u001b[1;33m.\u001b[0m\u001b[0mle_\u001b[0m\u001b[1;33m.\u001b[0m\u001b[0mtransform\u001b[0m\u001b[1;33m(\u001b[0m\u001b[0my\u001b[0m\u001b[1;33m)\u001b[0m\u001b[1;33m\u001b[0m\u001b[1;33m\u001b[0m\u001b[0m\n\u001b[0;32m    323\u001b[0m \u001b[1;33m\u001b[0m\u001b[0m\n\u001b[1;32m--> 324\u001b[1;33m         \u001b[1;32mreturn\u001b[0m \u001b[0msuper\u001b[0m\u001b[1;33m(\u001b[0m\u001b[1;33m)\u001b[0m\u001b[1;33m.\u001b[0m\u001b[0mfit\u001b[0m\u001b[1;33m(\u001b[0m\u001b[0mX\u001b[0m\u001b[1;33m,\u001b[0m \u001b[0mtransformed_y\u001b[0m\u001b[1;33m,\u001b[0m \u001b[0msample_weight\u001b[0m\u001b[1;33m)\u001b[0m\u001b[1;33m\u001b[0m\u001b[1;33m\u001b[0m\u001b[0m\n\u001b[0m\u001b[0;32m    325\u001b[0m \u001b[1;33m\u001b[0m\u001b[0m\n\u001b[0;32m    326\u001b[0m     \u001b[1;32mdef\u001b[0m \u001b[0mpredict\u001b[0m\u001b[1;33m(\u001b[0m\u001b[0mself\u001b[0m\u001b[1;33m,\u001b[0m \u001b[0mX\u001b[0m\u001b[1;33m)\u001b[0m\u001b[1;33m:\u001b[0m\u001b[1;33m\u001b[0m\u001b[1;33m\u001b[0m\u001b[0m\n",
      "\u001b[1;32m~\\anaconda3\\lib\\site-packages\\sklearn\\ensemble\\_voting.py\u001b[0m in \u001b[0;36mfit\u001b[1;34m(self, X, y, sample_weight)\u001b[0m\n\u001b[0;32m     72\u001b[0m             )\n\u001b[0;32m     73\u001b[0m \u001b[1;33m\u001b[0m\u001b[0m\n\u001b[1;32m---> 74\u001b[1;33m         self.estimators_ = Parallel(n_jobs=self.n_jobs)(\n\u001b[0m\u001b[0;32m     75\u001b[0m             delayed(_fit_single_estimator)(\n\u001b[0;32m     76\u001b[0m                 \u001b[0mclone\u001b[0m\u001b[1;33m(\u001b[0m\u001b[0mclf\u001b[0m\u001b[1;33m)\u001b[0m\u001b[1;33m,\u001b[0m\u001b[1;33m\u001b[0m\u001b[1;33m\u001b[0m\u001b[0m\n",
      "\u001b[1;32m~\\anaconda3\\lib\\site-packages\\joblib\\parallel.py\u001b[0m in \u001b[0;36m__call__\u001b[1;34m(self, iterable)\u001b[0m\n\u001b[0;32m   1041\u001b[0m             \u001b[1;31m# remaining jobs.\u001b[0m\u001b[1;33m\u001b[0m\u001b[1;33m\u001b[0m\u001b[0m\n\u001b[0;32m   1042\u001b[0m             \u001b[0mself\u001b[0m\u001b[1;33m.\u001b[0m\u001b[0m_iterating\u001b[0m \u001b[1;33m=\u001b[0m \u001b[1;32mFalse\u001b[0m\u001b[1;33m\u001b[0m\u001b[1;33m\u001b[0m\u001b[0m\n\u001b[1;32m-> 1043\u001b[1;33m             \u001b[1;32mif\u001b[0m \u001b[0mself\u001b[0m\u001b[1;33m.\u001b[0m\u001b[0mdispatch_one_batch\u001b[0m\u001b[1;33m(\u001b[0m\u001b[0miterator\u001b[0m\u001b[1;33m)\u001b[0m\u001b[1;33m:\u001b[0m\u001b[1;33m\u001b[0m\u001b[1;33m\u001b[0m\u001b[0m\n\u001b[0m\u001b[0;32m   1044\u001b[0m                 \u001b[0mself\u001b[0m\u001b[1;33m.\u001b[0m\u001b[0m_iterating\u001b[0m \u001b[1;33m=\u001b[0m \u001b[0mself\u001b[0m\u001b[1;33m.\u001b[0m\u001b[0m_original_iterator\u001b[0m \u001b[1;32mis\u001b[0m \u001b[1;32mnot\u001b[0m \u001b[1;32mNone\u001b[0m\u001b[1;33m\u001b[0m\u001b[1;33m\u001b[0m\u001b[0m\n\u001b[0;32m   1045\u001b[0m \u001b[1;33m\u001b[0m\u001b[0m\n",
      "\u001b[1;32m~\\anaconda3\\lib\\site-packages\\joblib\\parallel.py\u001b[0m in \u001b[0;36mdispatch_one_batch\u001b[1;34m(self, iterator)\u001b[0m\n\u001b[0;32m    859\u001b[0m                 \u001b[1;32mreturn\u001b[0m \u001b[1;32mFalse\u001b[0m\u001b[1;33m\u001b[0m\u001b[1;33m\u001b[0m\u001b[0m\n\u001b[0;32m    860\u001b[0m             \u001b[1;32melse\u001b[0m\u001b[1;33m:\u001b[0m\u001b[1;33m\u001b[0m\u001b[1;33m\u001b[0m\u001b[0m\n\u001b[1;32m--> 861\u001b[1;33m                 \u001b[0mself\u001b[0m\u001b[1;33m.\u001b[0m\u001b[0m_dispatch\u001b[0m\u001b[1;33m(\u001b[0m\u001b[0mtasks\u001b[0m\u001b[1;33m)\u001b[0m\u001b[1;33m\u001b[0m\u001b[1;33m\u001b[0m\u001b[0m\n\u001b[0m\u001b[0;32m    862\u001b[0m                 \u001b[1;32mreturn\u001b[0m \u001b[1;32mTrue\u001b[0m\u001b[1;33m\u001b[0m\u001b[1;33m\u001b[0m\u001b[0m\n\u001b[0;32m    863\u001b[0m \u001b[1;33m\u001b[0m\u001b[0m\n",
      "\u001b[1;32m~\\anaconda3\\lib\\site-packages\\joblib\\parallel.py\u001b[0m in \u001b[0;36m_dispatch\u001b[1;34m(self, batch)\u001b[0m\n\u001b[0;32m    777\u001b[0m         \u001b[1;32mwith\u001b[0m \u001b[0mself\u001b[0m\u001b[1;33m.\u001b[0m\u001b[0m_lock\u001b[0m\u001b[1;33m:\u001b[0m\u001b[1;33m\u001b[0m\u001b[1;33m\u001b[0m\u001b[0m\n\u001b[0;32m    778\u001b[0m             \u001b[0mjob_idx\u001b[0m \u001b[1;33m=\u001b[0m \u001b[0mlen\u001b[0m\u001b[1;33m(\u001b[0m\u001b[0mself\u001b[0m\u001b[1;33m.\u001b[0m\u001b[0m_jobs\u001b[0m\u001b[1;33m)\u001b[0m\u001b[1;33m\u001b[0m\u001b[1;33m\u001b[0m\u001b[0m\n\u001b[1;32m--> 779\u001b[1;33m             \u001b[0mjob\u001b[0m \u001b[1;33m=\u001b[0m \u001b[0mself\u001b[0m\u001b[1;33m.\u001b[0m\u001b[0m_backend\u001b[0m\u001b[1;33m.\u001b[0m\u001b[0mapply_async\u001b[0m\u001b[1;33m(\u001b[0m\u001b[0mbatch\u001b[0m\u001b[1;33m,\u001b[0m \u001b[0mcallback\u001b[0m\u001b[1;33m=\u001b[0m\u001b[0mcb\u001b[0m\u001b[1;33m)\u001b[0m\u001b[1;33m\u001b[0m\u001b[1;33m\u001b[0m\u001b[0m\n\u001b[0m\u001b[0;32m    780\u001b[0m             \u001b[1;31m# A job can complete so quickly than its callback is\u001b[0m\u001b[1;33m\u001b[0m\u001b[1;33m\u001b[0m\u001b[0m\n\u001b[0;32m    781\u001b[0m             \u001b[1;31m# called before we get here, causing self._jobs to\u001b[0m\u001b[1;33m\u001b[0m\u001b[1;33m\u001b[0m\u001b[0m\n",
      "\u001b[1;32m~\\anaconda3\\lib\\site-packages\\joblib\\_parallel_backends.py\u001b[0m in \u001b[0;36mapply_async\u001b[1;34m(self, func, callback)\u001b[0m\n\u001b[0;32m    206\u001b[0m     \u001b[1;32mdef\u001b[0m \u001b[0mapply_async\u001b[0m\u001b[1;33m(\u001b[0m\u001b[0mself\u001b[0m\u001b[1;33m,\u001b[0m \u001b[0mfunc\u001b[0m\u001b[1;33m,\u001b[0m \u001b[0mcallback\u001b[0m\u001b[1;33m=\u001b[0m\u001b[1;32mNone\u001b[0m\u001b[1;33m)\u001b[0m\u001b[1;33m:\u001b[0m\u001b[1;33m\u001b[0m\u001b[1;33m\u001b[0m\u001b[0m\n\u001b[0;32m    207\u001b[0m         \u001b[1;34m\"\"\"Schedule a func to be run\"\"\"\u001b[0m\u001b[1;33m\u001b[0m\u001b[1;33m\u001b[0m\u001b[0m\n\u001b[1;32m--> 208\u001b[1;33m         \u001b[0mresult\u001b[0m \u001b[1;33m=\u001b[0m \u001b[0mImmediateResult\u001b[0m\u001b[1;33m(\u001b[0m\u001b[0mfunc\u001b[0m\u001b[1;33m)\u001b[0m\u001b[1;33m\u001b[0m\u001b[1;33m\u001b[0m\u001b[0m\n\u001b[0m\u001b[0;32m    209\u001b[0m         \u001b[1;32mif\u001b[0m \u001b[0mcallback\u001b[0m\u001b[1;33m:\u001b[0m\u001b[1;33m\u001b[0m\u001b[1;33m\u001b[0m\u001b[0m\n\u001b[0;32m    210\u001b[0m             \u001b[0mcallback\u001b[0m\u001b[1;33m(\u001b[0m\u001b[0mresult\u001b[0m\u001b[1;33m)\u001b[0m\u001b[1;33m\u001b[0m\u001b[1;33m\u001b[0m\u001b[0m\n",
      "\u001b[1;32m~\\anaconda3\\lib\\site-packages\\joblib\\_parallel_backends.py\u001b[0m in \u001b[0;36m__init__\u001b[1;34m(self, batch)\u001b[0m\n\u001b[0;32m    570\u001b[0m         \u001b[1;31m# Don't delay the application, to avoid keeping the input\u001b[0m\u001b[1;33m\u001b[0m\u001b[1;33m\u001b[0m\u001b[0m\n\u001b[0;32m    571\u001b[0m         \u001b[1;31m# arguments in memory\u001b[0m\u001b[1;33m\u001b[0m\u001b[1;33m\u001b[0m\u001b[0m\n\u001b[1;32m--> 572\u001b[1;33m         \u001b[0mself\u001b[0m\u001b[1;33m.\u001b[0m\u001b[0mresults\u001b[0m \u001b[1;33m=\u001b[0m \u001b[0mbatch\u001b[0m\u001b[1;33m(\u001b[0m\u001b[1;33m)\u001b[0m\u001b[1;33m\u001b[0m\u001b[1;33m\u001b[0m\u001b[0m\n\u001b[0m\u001b[0;32m    573\u001b[0m \u001b[1;33m\u001b[0m\u001b[0m\n\u001b[0;32m    574\u001b[0m     \u001b[1;32mdef\u001b[0m \u001b[0mget\u001b[0m\u001b[1;33m(\u001b[0m\u001b[0mself\u001b[0m\u001b[1;33m)\u001b[0m\u001b[1;33m:\u001b[0m\u001b[1;33m\u001b[0m\u001b[1;33m\u001b[0m\u001b[0m\n",
      "\u001b[1;32m~\\anaconda3\\lib\\site-packages\\joblib\\parallel.py\u001b[0m in \u001b[0;36m__call__\u001b[1;34m(self)\u001b[0m\n\u001b[0;32m    260\u001b[0m         \u001b[1;31m# change the default number of processes to -1\u001b[0m\u001b[1;33m\u001b[0m\u001b[1;33m\u001b[0m\u001b[0m\n\u001b[0;32m    261\u001b[0m         \u001b[1;32mwith\u001b[0m \u001b[0mparallel_backend\u001b[0m\u001b[1;33m(\u001b[0m\u001b[0mself\u001b[0m\u001b[1;33m.\u001b[0m\u001b[0m_backend\u001b[0m\u001b[1;33m,\u001b[0m \u001b[0mn_jobs\u001b[0m\u001b[1;33m=\u001b[0m\u001b[0mself\u001b[0m\u001b[1;33m.\u001b[0m\u001b[0m_n_jobs\u001b[0m\u001b[1;33m)\u001b[0m\u001b[1;33m:\u001b[0m\u001b[1;33m\u001b[0m\u001b[1;33m\u001b[0m\u001b[0m\n\u001b[1;32m--> 262\u001b[1;33m             return [func(*args, **kwargs)\n\u001b[0m\u001b[0;32m    263\u001b[0m                     for func, args, kwargs in self.items]\n\u001b[0;32m    264\u001b[0m \u001b[1;33m\u001b[0m\u001b[0m\n",
      "\u001b[1;32m~\\anaconda3\\lib\\site-packages\\joblib\\parallel.py\u001b[0m in \u001b[0;36m<listcomp>\u001b[1;34m(.0)\u001b[0m\n\u001b[0;32m    260\u001b[0m         \u001b[1;31m# change the default number of processes to -1\u001b[0m\u001b[1;33m\u001b[0m\u001b[1;33m\u001b[0m\u001b[0m\n\u001b[0;32m    261\u001b[0m         \u001b[1;32mwith\u001b[0m \u001b[0mparallel_backend\u001b[0m\u001b[1;33m(\u001b[0m\u001b[0mself\u001b[0m\u001b[1;33m.\u001b[0m\u001b[0m_backend\u001b[0m\u001b[1;33m,\u001b[0m \u001b[0mn_jobs\u001b[0m\u001b[1;33m=\u001b[0m\u001b[0mself\u001b[0m\u001b[1;33m.\u001b[0m\u001b[0m_n_jobs\u001b[0m\u001b[1;33m)\u001b[0m\u001b[1;33m:\u001b[0m\u001b[1;33m\u001b[0m\u001b[1;33m\u001b[0m\u001b[0m\n\u001b[1;32m--> 262\u001b[1;33m             return [func(*args, **kwargs)\n\u001b[0m\u001b[0;32m    263\u001b[0m                     for func, args, kwargs in self.items]\n\u001b[0;32m    264\u001b[0m \u001b[1;33m\u001b[0m\u001b[0m\n",
      "\u001b[1;32m~\\anaconda3\\lib\\site-packages\\sklearn\\utils\\fixes.py\u001b[0m in \u001b[0;36m__call__\u001b[1;34m(self, *args, **kwargs)\u001b[0m\n\u001b[0;32m    214\u001b[0m     \u001b[1;32mdef\u001b[0m \u001b[0m__call__\u001b[0m\u001b[1;33m(\u001b[0m\u001b[0mself\u001b[0m\u001b[1;33m,\u001b[0m \u001b[1;33m*\u001b[0m\u001b[0margs\u001b[0m\u001b[1;33m,\u001b[0m \u001b[1;33m**\u001b[0m\u001b[0mkwargs\u001b[0m\u001b[1;33m)\u001b[0m\u001b[1;33m:\u001b[0m\u001b[1;33m\u001b[0m\u001b[1;33m\u001b[0m\u001b[0m\n\u001b[0;32m    215\u001b[0m         \u001b[1;32mwith\u001b[0m \u001b[0mconfig_context\u001b[0m\u001b[1;33m(\u001b[0m\u001b[1;33m**\u001b[0m\u001b[0mself\u001b[0m\u001b[1;33m.\u001b[0m\u001b[0mconfig\u001b[0m\u001b[1;33m)\u001b[0m\u001b[1;33m:\u001b[0m\u001b[1;33m\u001b[0m\u001b[1;33m\u001b[0m\u001b[0m\n\u001b[1;32m--> 216\u001b[1;33m             \u001b[1;32mreturn\u001b[0m \u001b[0mself\u001b[0m\u001b[1;33m.\u001b[0m\u001b[0mfunction\u001b[0m\u001b[1;33m(\u001b[0m\u001b[1;33m*\u001b[0m\u001b[0margs\u001b[0m\u001b[1;33m,\u001b[0m \u001b[1;33m**\u001b[0m\u001b[0mkwargs\u001b[0m\u001b[1;33m)\u001b[0m\u001b[1;33m\u001b[0m\u001b[1;33m\u001b[0m\u001b[0m\n\u001b[0m\u001b[0;32m    217\u001b[0m \u001b[1;33m\u001b[0m\u001b[0m\n\u001b[0;32m    218\u001b[0m \u001b[1;33m\u001b[0m\u001b[0m\n",
      "\u001b[1;32m~\\anaconda3\\lib\\site-packages\\sklearn\\ensemble\\_base.py\u001b[0m in \u001b[0;36m_fit_single_estimator\u001b[1;34m(estimator, X, y, sample_weight, message_clsname, message)\u001b[0m\n\u001b[0;32m     40\u001b[0m     \u001b[1;32melse\u001b[0m\u001b[1;33m:\u001b[0m\u001b[1;33m\u001b[0m\u001b[1;33m\u001b[0m\u001b[0m\n\u001b[0;32m     41\u001b[0m         \u001b[1;32mwith\u001b[0m \u001b[0m_print_elapsed_time\u001b[0m\u001b[1;33m(\u001b[0m\u001b[0mmessage_clsname\u001b[0m\u001b[1;33m,\u001b[0m \u001b[0mmessage\u001b[0m\u001b[1;33m)\u001b[0m\u001b[1;33m:\u001b[0m\u001b[1;33m\u001b[0m\u001b[1;33m\u001b[0m\u001b[0m\n\u001b[1;32m---> 42\u001b[1;33m             \u001b[0mestimator\u001b[0m\u001b[1;33m.\u001b[0m\u001b[0mfit\u001b[0m\u001b[1;33m(\u001b[0m\u001b[0mX\u001b[0m\u001b[1;33m,\u001b[0m \u001b[0my\u001b[0m\u001b[1;33m)\u001b[0m\u001b[1;33m\u001b[0m\u001b[1;33m\u001b[0m\u001b[0m\n\u001b[0m\u001b[0;32m     43\u001b[0m     \u001b[1;32mreturn\u001b[0m \u001b[0mestimator\u001b[0m\u001b[1;33m\u001b[0m\u001b[1;33m\u001b[0m\u001b[0m\n\u001b[0;32m     44\u001b[0m \u001b[1;33m\u001b[0m\u001b[0m\n",
      "\u001b[1;32m~\\anaconda3\\lib\\site-packages\\sklearn\\pipeline.py\u001b[0m in \u001b[0;36mfit\u001b[1;34m(self, X, y, **fit_params)\u001b[0m\n\u001b[0;32m    388\u001b[0m         \"\"\"\n\u001b[0;32m    389\u001b[0m         \u001b[0mfit_params_steps\u001b[0m \u001b[1;33m=\u001b[0m \u001b[0mself\u001b[0m\u001b[1;33m.\u001b[0m\u001b[0m_check_fit_params\u001b[0m\u001b[1;33m(\u001b[0m\u001b[1;33m**\u001b[0m\u001b[0mfit_params\u001b[0m\u001b[1;33m)\u001b[0m\u001b[1;33m\u001b[0m\u001b[1;33m\u001b[0m\u001b[0m\n\u001b[1;32m--> 390\u001b[1;33m         \u001b[0mXt\u001b[0m \u001b[1;33m=\u001b[0m \u001b[0mself\u001b[0m\u001b[1;33m.\u001b[0m\u001b[0m_fit\u001b[0m\u001b[1;33m(\u001b[0m\u001b[0mX\u001b[0m\u001b[1;33m,\u001b[0m \u001b[0my\u001b[0m\u001b[1;33m,\u001b[0m \u001b[1;33m**\u001b[0m\u001b[0mfit_params_steps\u001b[0m\u001b[1;33m)\u001b[0m\u001b[1;33m\u001b[0m\u001b[1;33m\u001b[0m\u001b[0m\n\u001b[0m\u001b[0;32m    391\u001b[0m         \u001b[1;32mwith\u001b[0m \u001b[0m_print_elapsed_time\u001b[0m\u001b[1;33m(\u001b[0m\u001b[1;34m\"Pipeline\"\u001b[0m\u001b[1;33m,\u001b[0m \u001b[0mself\u001b[0m\u001b[1;33m.\u001b[0m\u001b[0m_log_message\u001b[0m\u001b[1;33m(\u001b[0m\u001b[0mlen\u001b[0m\u001b[1;33m(\u001b[0m\u001b[0mself\u001b[0m\u001b[1;33m.\u001b[0m\u001b[0msteps\u001b[0m\u001b[1;33m)\u001b[0m \u001b[1;33m-\u001b[0m \u001b[1;36m1\u001b[0m\u001b[1;33m)\u001b[0m\u001b[1;33m)\u001b[0m\u001b[1;33m:\u001b[0m\u001b[1;33m\u001b[0m\u001b[1;33m\u001b[0m\u001b[0m\n\u001b[0;32m    392\u001b[0m             \u001b[1;32mif\u001b[0m \u001b[0mself\u001b[0m\u001b[1;33m.\u001b[0m\u001b[0m_final_estimator\u001b[0m \u001b[1;33m!=\u001b[0m \u001b[1;34m\"passthrough\"\u001b[0m\u001b[1;33m:\u001b[0m\u001b[1;33m\u001b[0m\u001b[1;33m\u001b[0m\u001b[0m\n",
      "\u001b[1;32m~\\anaconda3\\lib\\site-packages\\sklearn\\pipeline.py\u001b[0m in \u001b[0;36m_fit\u001b[1;34m(self, X, y, **fit_params_steps)\u001b[0m\n\u001b[0;32m    346\u001b[0m                 \u001b[0mcloned_transformer\u001b[0m \u001b[1;33m=\u001b[0m \u001b[0mclone\u001b[0m\u001b[1;33m(\u001b[0m\u001b[0mtransformer\u001b[0m\u001b[1;33m)\u001b[0m\u001b[1;33m\u001b[0m\u001b[1;33m\u001b[0m\u001b[0m\n\u001b[0;32m    347\u001b[0m             \u001b[1;31m# Fit or load from cache the current transformer\u001b[0m\u001b[1;33m\u001b[0m\u001b[1;33m\u001b[0m\u001b[0m\n\u001b[1;32m--> 348\u001b[1;33m             X, fitted_transformer = fit_transform_one_cached(\n\u001b[0m\u001b[0;32m    349\u001b[0m                 \u001b[0mcloned_transformer\u001b[0m\u001b[1;33m,\u001b[0m\u001b[1;33m\u001b[0m\u001b[1;33m\u001b[0m\u001b[0m\n\u001b[0;32m    350\u001b[0m                 \u001b[0mX\u001b[0m\u001b[1;33m,\u001b[0m\u001b[1;33m\u001b[0m\u001b[1;33m\u001b[0m\u001b[0m\n",
      "\u001b[1;32m~\\anaconda3\\lib\\site-packages\\joblib\\memory.py\u001b[0m in \u001b[0;36m__call__\u001b[1;34m(self, *args, **kwargs)\u001b[0m\n\u001b[0;32m    347\u001b[0m \u001b[1;33m\u001b[0m\u001b[0m\n\u001b[0;32m    348\u001b[0m     \u001b[1;32mdef\u001b[0m \u001b[0m__call__\u001b[0m\u001b[1;33m(\u001b[0m\u001b[0mself\u001b[0m\u001b[1;33m,\u001b[0m \u001b[1;33m*\u001b[0m\u001b[0margs\u001b[0m\u001b[1;33m,\u001b[0m \u001b[1;33m**\u001b[0m\u001b[0mkwargs\u001b[0m\u001b[1;33m)\u001b[0m\u001b[1;33m:\u001b[0m\u001b[1;33m\u001b[0m\u001b[1;33m\u001b[0m\u001b[0m\n\u001b[1;32m--> 349\u001b[1;33m         \u001b[1;32mreturn\u001b[0m \u001b[0mself\u001b[0m\u001b[1;33m.\u001b[0m\u001b[0mfunc\u001b[0m\u001b[1;33m(\u001b[0m\u001b[1;33m*\u001b[0m\u001b[0margs\u001b[0m\u001b[1;33m,\u001b[0m \u001b[1;33m**\u001b[0m\u001b[0mkwargs\u001b[0m\u001b[1;33m)\u001b[0m\u001b[1;33m\u001b[0m\u001b[1;33m\u001b[0m\u001b[0m\n\u001b[0m\u001b[0;32m    350\u001b[0m \u001b[1;33m\u001b[0m\u001b[0m\n\u001b[0;32m    351\u001b[0m     \u001b[1;32mdef\u001b[0m \u001b[0mcall_and_shelve\u001b[0m\u001b[1;33m(\u001b[0m\u001b[0mself\u001b[0m\u001b[1;33m,\u001b[0m \u001b[1;33m*\u001b[0m\u001b[0margs\u001b[0m\u001b[1;33m,\u001b[0m \u001b[1;33m**\u001b[0m\u001b[0mkwargs\u001b[0m\u001b[1;33m)\u001b[0m\u001b[1;33m:\u001b[0m\u001b[1;33m\u001b[0m\u001b[1;33m\u001b[0m\u001b[0m\n",
      "\u001b[1;32m~\\anaconda3\\lib\\site-packages\\sklearn\\pipeline.py\u001b[0m in \u001b[0;36m_fit_transform_one\u001b[1;34m(transformer, X, y, weight, message_clsname, message, **fit_params)\u001b[0m\n\u001b[0;32m    891\u001b[0m     \u001b[1;32mwith\u001b[0m \u001b[0m_print_elapsed_time\u001b[0m\u001b[1;33m(\u001b[0m\u001b[0mmessage_clsname\u001b[0m\u001b[1;33m,\u001b[0m \u001b[0mmessage\u001b[0m\u001b[1;33m)\u001b[0m\u001b[1;33m:\u001b[0m\u001b[1;33m\u001b[0m\u001b[1;33m\u001b[0m\u001b[0m\n\u001b[0;32m    892\u001b[0m         \u001b[1;32mif\u001b[0m \u001b[0mhasattr\u001b[0m\u001b[1;33m(\u001b[0m\u001b[0mtransformer\u001b[0m\u001b[1;33m,\u001b[0m \u001b[1;34m\"fit_transform\"\u001b[0m\u001b[1;33m)\u001b[0m\u001b[1;33m:\u001b[0m\u001b[1;33m\u001b[0m\u001b[1;33m\u001b[0m\u001b[0m\n\u001b[1;32m--> 893\u001b[1;33m             \u001b[0mres\u001b[0m \u001b[1;33m=\u001b[0m \u001b[0mtransformer\u001b[0m\u001b[1;33m.\u001b[0m\u001b[0mfit_transform\u001b[0m\u001b[1;33m(\u001b[0m\u001b[0mX\u001b[0m\u001b[1;33m,\u001b[0m \u001b[0my\u001b[0m\u001b[1;33m,\u001b[0m \u001b[1;33m**\u001b[0m\u001b[0mfit_params\u001b[0m\u001b[1;33m)\u001b[0m\u001b[1;33m\u001b[0m\u001b[1;33m\u001b[0m\u001b[0m\n\u001b[0m\u001b[0;32m    894\u001b[0m         \u001b[1;32melse\u001b[0m\u001b[1;33m:\u001b[0m\u001b[1;33m\u001b[0m\u001b[1;33m\u001b[0m\u001b[0m\n\u001b[0;32m    895\u001b[0m             \u001b[0mres\u001b[0m \u001b[1;33m=\u001b[0m \u001b[0mtransformer\u001b[0m\u001b[1;33m.\u001b[0m\u001b[0mfit\u001b[0m\u001b[1;33m(\u001b[0m\u001b[0mX\u001b[0m\u001b[1;33m,\u001b[0m \u001b[0my\u001b[0m\u001b[1;33m,\u001b[0m \u001b[1;33m**\u001b[0m\u001b[0mfit_params\u001b[0m\u001b[1;33m)\u001b[0m\u001b[1;33m.\u001b[0m\u001b[0mtransform\u001b[0m\u001b[1;33m(\u001b[0m\u001b[0mX\u001b[0m\u001b[1;33m)\u001b[0m\u001b[1;33m\u001b[0m\u001b[1;33m\u001b[0m\u001b[0m\n",
      "\u001b[1;32m~\\anaconda3\\lib\\site-packages\\sklearn\\feature_extraction\\text.py\u001b[0m in \u001b[0;36mfit_transform\u001b[1;34m(self, raw_documents, y)\u001b[0m\n\u001b[0;32m   2075\u001b[0m         \"\"\"\n\u001b[0;32m   2076\u001b[0m         \u001b[0mself\u001b[0m\u001b[1;33m.\u001b[0m\u001b[0m_check_params\u001b[0m\u001b[1;33m(\u001b[0m\u001b[1;33m)\u001b[0m\u001b[1;33m\u001b[0m\u001b[1;33m\u001b[0m\u001b[0m\n\u001b[1;32m-> 2077\u001b[1;33m         \u001b[0mX\u001b[0m \u001b[1;33m=\u001b[0m \u001b[0msuper\u001b[0m\u001b[1;33m(\u001b[0m\u001b[1;33m)\u001b[0m\u001b[1;33m.\u001b[0m\u001b[0mfit_transform\u001b[0m\u001b[1;33m(\u001b[0m\u001b[0mraw_documents\u001b[0m\u001b[1;33m)\u001b[0m\u001b[1;33m\u001b[0m\u001b[1;33m\u001b[0m\u001b[0m\n\u001b[0m\u001b[0;32m   2078\u001b[0m         \u001b[0mself\u001b[0m\u001b[1;33m.\u001b[0m\u001b[0m_tfidf\u001b[0m\u001b[1;33m.\u001b[0m\u001b[0mfit\u001b[0m\u001b[1;33m(\u001b[0m\u001b[0mX\u001b[0m\u001b[1;33m)\u001b[0m\u001b[1;33m\u001b[0m\u001b[1;33m\u001b[0m\u001b[0m\n\u001b[0;32m   2079\u001b[0m         \u001b[1;31m# X is already a transformed view of raw_documents so\u001b[0m\u001b[1;33m\u001b[0m\u001b[1;33m\u001b[0m\u001b[0m\n",
      "\u001b[1;32m~\\anaconda3\\lib\\site-packages\\sklearn\\feature_extraction\\text.py\u001b[0m in \u001b[0;36mfit_transform\u001b[1;34m(self, raw_documents, y)\u001b[0m\n\u001b[0;32m   1328\u001b[0m                     \u001b[1;32mbreak\u001b[0m\u001b[1;33m\u001b[0m\u001b[1;33m\u001b[0m\u001b[0m\n\u001b[0;32m   1329\u001b[0m \u001b[1;33m\u001b[0m\u001b[0m\n\u001b[1;32m-> 1330\u001b[1;33m         \u001b[0mvocabulary\u001b[0m\u001b[1;33m,\u001b[0m \u001b[0mX\u001b[0m \u001b[1;33m=\u001b[0m \u001b[0mself\u001b[0m\u001b[1;33m.\u001b[0m\u001b[0m_count_vocab\u001b[0m\u001b[1;33m(\u001b[0m\u001b[0mraw_documents\u001b[0m\u001b[1;33m,\u001b[0m \u001b[0mself\u001b[0m\u001b[1;33m.\u001b[0m\u001b[0mfixed_vocabulary_\u001b[0m\u001b[1;33m)\u001b[0m\u001b[1;33m\u001b[0m\u001b[1;33m\u001b[0m\u001b[0m\n\u001b[0m\u001b[0;32m   1331\u001b[0m \u001b[1;33m\u001b[0m\u001b[0m\n\u001b[0;32m   1332\u001b[0m         \u001b[1;32mif\u001b[0m \u001b[0mself\u001b[0m\u001b[1;33m.\u001b[0m\u001b[0mbinary\u001b[0m\u001b[1;33m:\u001b[0m\u001b[1;33m\u001b[0m\u001b[1;33m\u001b[0m\u001b[0m\n",
      "\u001b[1;32m~\\anaconda3\\lib\\site-packages\\sklearn\\feature_extraction\\text.py\u001b[0m in \u001b[0;36m_count_vocab\u001b[1;34m(self, raw_documents, fixed_vocab)\u001b[0m\n\u001b[0;32m   1199\u001b[0m         \u001b[1;32mfor\u001b[0m \u001b[0mdoc\u001b[0m \u001b[1;32min\u001b[0m \u001b[0mraw_documents\u001b[0m\u001b[1;33m:\u001b[0m\u001b[1;33m\u001b[0m\u001b[1;33m\u001b[0m\u001b[0m\n\u001b[0;32m   1200\u001b[0m             \u001b[0mfeature_counter\u001b[0m \u001b[1;33m=\u001b[0m \u001b[1;33m{\u001b[0m\u001b[1;33m}\u001b[0m\u001b[1;33m\u001b[0m\u001b[1;33m\u001b[0m\u001b[0m\n\u001b[1;32m-> 1201\u001b[1;33m             \u001b[1;32mfor\u001b[0m \u001b[0mfeature\u001b[0m \u001b[1;32min\u001b[0m \u001b[0manalyze\u001b[0m\u001b[1;33m(\u001b[0m\u001b[0mdoc\u001b[0m\u001b[1;33m)\u001b[0m\u001b[1;33m:\u001b[0m\u001b[1;33m\u001b[0m\u001b[1;33m\u001b[0m\u001b[0m\n\u001b[0m\u001b[0;32m   1202\u001b[0m                 \u001b[1;32mtry\u001b[0m\u001b[1;33m:\u001b[0m\u001b[1;33m\u001b[0m\u001b[1;33m\u001b[0m\u001b[0m\n\u001b[0;32m   1203\u001b[0m                     \u001b[0mfeature_idx\u001b[0m \u001b[1;33m=\u001b[0m \u001b[0mvocabulary\u001b[0m\u001b[1;33m[\u001b[0m\u001b[0mfeature\u001b[0m\u001b[1;33m]\u001b[0m\u001b[1;33m\u001b[0m\u001b[1;33m\u001b[0m\u001b[0m\n",
      "\u001b[1;32m~\\anaconda3\\lib\\site-packages\\sklearn\\feature_extraction\\text.py\u001b[0m in \u001b[0;36m_analyze\u001b[1;34m(doc, analyzer, tokenizer, ngrams, preprocessor, decoder, stop_words)\u001b[0m\n\u001b[0;32m    111\u001b[0m     \u001b[1;32melse\u001b[0m\u001b[1;33m:\u001b[0m\u001b[1;33m\u001b[0m\u001b[1;33m\u001b[0m\u001b[0m\n\u001b[0;32m    112\u001b[0m         \u001b[1;32mif\u001b[0m \u001b[0mpreprocessor\u001b[0m \u001b[1;32mis\u001b[0m \u001b[1;32mnot\u001b[0m \u001b[1;32mNone\u001b[0m\u001b[1;33m:\u001b[0m\u001b[1;33m\u001b[0m\u001b[1;33m\u001b[0m\u001b[0m\n\u001b[1;32m--> 113\u001b[1;33m             \u001b[0mdoc\u001b[0m \u001b[1;33m=\u001b[0m \u001b[0mpreprocessor\u001b[0m\u001b[1;33m(\u001b[0m\u001b[0mdoc\u001b[0m\u001b[1;33m)\u001b[0m\u001b[1;33m\u001b[0m\u001b[1;33m\u001b[0m\u001b[0m\n\u001b[0m\u001b[0;32m    114\u001b[0m         \u001b[1;32mif\u001b[0m \u001b[0mtokenizer\u001b[0m \u001b[1;32mis\u001b[0m \u001b[1;32mnot\u001b[0m \u001b[1;32mNone\u001b[0m\u001b[1;33m:\u001b[0m\u001b[1;33m\u001b[0m\u001b[1;33m\u001b[0m\u001b[0m\n\u001b[0;32m    115\u001b[0m             \u001b[0mdoc\u001b[0m \u001b[1;33m=\u001b[0m \u001b[0mtokenizer\u001b[0m\u001b[1;33m(\u001b[0m\u001b[0mdoc\u001b[0m\u001b[1;33m)\u001b[0m\u001b[1;33m\u001b[0m\u001b[1;33m\u001b[0m\u001b[0m\n",
      "\u001b[1;32m~\\anaconda3\\lib\\site-packages\\sklearn\\feature_extraction\\text.py\u001b[0m in \u001b[0;36m_preprocess\u001b[1;34m(doc, accent_function, lower)\u001b[0m\n\u001b[0;32m     69\u001b[0m     \"\"\"\n\u001b[0;32m     70\u001b[0m     \u001b[1;32mif\u001b[0m \u001b[0mlower\u001b[0m\u001b[1;33m:\u001b[0m\u001b[1;33m\u001b[0m\u001b[1;33m\u001b[0m\u001b[0m\n\u001b[1;32m---> 71\u001b[1;33m         \u001b[0mdoc\u001b[0m \u001b[1;33m=\u001b[0m \u001b[0mdoc\u001b[0m\u001b[1;33m.\u001b[0m\u001b[0mlower\u001b[0m\u001b[1;33m(\u001b[0m\u001b[1;33m)\u001b[0m\u001b[1;33m\u001b[0m\u001b[1;33m\u001b[0m\u001b[0m\n\u001b[0m\u001b[0;32m     72\u001b[0m     \u001b[1;32mif\u001b[0m \u001b[0maccent_function\u001b[0m \u001b[1;32mis\u001b[0m \u001b[1;32mnot\u001b[0m \u001b[1;32mNone\u001b[0m\u001b[1;33m:\u001b[0m\u001b[1;33m\u001b[0m\u001b[1;33m\u001b[0m\u001b[0m\n\u001b[0;32m     73\u001b[0m         \u001b[0mdoc\u001b[0m \u001b[1;33m=\u001b[0m \u001b[0maccent_function\u001b[0m\u001b[1;33m(\u001b[0m\u001b[0mdoc\u001b[0m\u001b[1;33m)\u001b[0m\u001b[1;33m\u001b[0m\u001b[1;33m\u001b[0m\u001b[0m\n",
      "\u001b[1;31mAttributeError\u001b[0m: 'numpy.ndarray' object has no attribute 'lower'"
     ]
    }
   ],
   "source": [
    "estimator = []\n",
    "# estimator.append(('LSVC', lsvc_pipeline))\n",
    "estimator.append(('SVC', svc_pipeline))\n",
    "estimator.append(('RFC', rfc_pipeline))\n",
    "estimator.append(('MNB',mnb_pipeline))\n",
    "\n",
    "vot_soft = VotingClassifier(estimators=estimator, voting='soft')\n",
    "vot_soft.fit(x_train,y_train)\n"
   ]
  },
  {
   "cell_type": "code",
   "execution_count": null,
   "id": "3c4a0a65",
   "metadata": {},
   "outputs": [],
   "source": [
    "\n"
   ]
  },
  {
   "cell_type": "code",
   "execution_count": null,
   "id": "87705d64",
   "metadata": {},
   "outputs": [],
   "source": []
  },
  {
   "cell_type": "code",
   "execution_count": null,
   "id": "480b8e74",
   "metadata": {},
   "outputs": [],
   "source": [
    "#models##\n",
    "#vot_soft\n",
    "#mnb_pipeline\n",
    "#rfc_pipeline\n",
    "#svc_pipeline\n",
    "#linear_svc\n",
    "#xgb\n",
    "#rfc\n",
    "#lsvco\n",
    "#model"
   ]
  },
  {
   "cell_type": "code",
   "execution_count": null,
   "id": "6c295241",
   "metadata": {
    "scrolled": true
   },
   "outputs": [],
   "source": [
    "str = [input(\"enter string to predict : \")]\n",
    "\n",
    "a = vot_soft.predict(str)\n",
    "\n",
    "dic = {-1:'negative',1:'positive',0:'nutral'}\n",
    "\n",
    "def find_flag(x):\n",
    "    if x in dic:\n",
    "        return dic[x]\n",
    "print(\"\\nCategory : \",find_flag(a[0]))"
   ]
  },
  {
   "cell_type": "code",
   "execution_count": null,
   "id": "fe01be74",
   "metadata": {
    "scrolled": true
   },
   "outputs": [],
   "source": [
    "model.predict(['may be today war ends'])"
   ]
  },
  {
   "cell_type": "code",
   "execution_count": null,
   "id": "d54efea0",
   "metadata": {},
   "outputs": [],
   "source": []
  },
  {
   "cell_type": "markdown",
   "id": "49084e67",
   "metadata": {},
   "source": [
    "***saving model***"
   ]
  },
  {
   "cell_type": "code",
   "execution_count": null,
   "id": "dfb23664",
   "metadata": {},
   "outputs": [],
   "source": [
    "import pickle"
   ]
  },
  {
   "cell_type": "code",
   "execution_count": null,
   "id": "6ffdb6de",
   "metadata": {},
   "outputs": [],
   "source": [
    "filename = 'news_sentiment_analysis.sav'\n",
    "pickle.dump(mnb_pipeline, open(filename, 'wb'))"
   ]
  },
  {
   "cell_type": "code",
   "execution_count": null,
   "id": "b30d53b6",
   "metadata": {},
   "outputs": [],
   "source": []
  }
 ],
 "metadata": {
  "kernelspec": {
   "display_name": "Python 3 (ipykernel)",
   "language": "python",
   "name": "python3"
  },
  "language_info": {
   "codemirror_mode": {
    "name": "ipython",
    "version": 3
   },
   "file_extension": ".py",
   "mimetype": "text/x-python",
   "name": "python",
   "nbconvert_exporter": "python",
   "pygments_lexer": "ipython3",
   "version": "3.9.7"
  }
 },
 "nbformat": 4,
 "nbformat_minor": 5
}
